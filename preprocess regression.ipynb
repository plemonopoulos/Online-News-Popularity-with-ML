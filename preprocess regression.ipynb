{
 "cells": [
  {
   "cell_type": "markdown",
   "metadata": {},
   "source": [
    "# Preprocess for Regression"
   ]
  },
  {
   "cell_type": "code",
   "execution_count": 1,
   "metadata": {
    "ExecuteTime": {
     "end_time": "2019-05-20T08:49:03.225780Z",
     "start_time": "2019-05-20T08:49:03.220027Z"
    }
   },
   "outputs": [],
   "source": [
    "# 5 λεπτά"
   ]
  },
  {
   "cell_type": "code",
   "execution_count": 1,
   "metadata": {
    "ExecuteTime": {
     "end_time": "2019-05-22T14:31:42.312593Z",
     "start_time": "2019-05-22T14:31:39.714614Z"
    }
   },
   "outputs": [
    {
     "name": "stdout",
     "output_type": "stream",
     "text": [
      "Initial dataset dimensions: (39644, 61)\n"
     ]
    }
   ],
   "source": [
    "%matplotlib inline\n",
    "import matplotlib.pyplot as plt\n",
    "import numpy as np\n",
    "import pandas as pd\n",
    "from pandas.plotting import scatter_matrix\n",
    "from sklearn import tree\n",
    "from sklearn.tree import DecisionTreeRegressor\n",
    "from sklearn.ensemble import RandomForestRegressor\n",
    "from sklearn.model_selection import train_test_split\n",
    "from sklearn.linear_model import LinearRegression\n",
    "from sklearn.metrics import mean_squared_error\n",
    "from sklearn.metrics import mean_absolute_error\n",
    "from sklearn.model_selection import cross_val_score\n",
    "from sklearn.model_selection import GridSearchCV\n",
    "from sklearn.model_selection import RandomizedSearchCV\n",
    "from scipy.stats import randint\n",
    "import seaborn as sns\n",
    "from sklearn.linear_model import LogisticRegression\n",
    "from sklearn.metrics import classification_report\n",
    "from sklearn.metrics import accuracy_score\n",
    "from sklearn.naive_bayes import BernoulliNB\n",
    "from sklearn.neighbors import KNeighborsClassifier\n",
    "from sklearn.ensemble import RandomForestClassifier\n",
    "from sklearn.svm import SVC\n",
    "from sklearn.metrics import confusion_matrix\n",
    "from sklearn.metrics import roc_curve\n",
    "from sklearn.metrics import auc\n",
    "\n",
    "data = pd.read_csv(\"/home/apostolis/Επιφάνεια εργασίας/εργασία εξαμήνου (μηχανική μάθηση)/datasets/OnlineNewsPopularity.txt\")\n",
    "X = data.iloc[:,0:60]\n",
    "y = data.iloc[:,-1]\n",
    "initRows = np.shape(data)[0]\n",
    "print(\"Initial dataset dimensions: \" + str(np.shape(data)))"
   ]
  },
  {
   "cell_type": "code",
   "execution_count": 2,
   "metadata": {
    "ExecuteTime": {
     "end_time": "2019-05-22T14:31:47.680706Z",
     "start_time": "2019-05-22T14:31:47.638106Z"
    }
   },
   "outputs": [
    {
     "data": {
      "text/html": [
       "<div>\n",
       "<style scoped>\n",
       "    .dataframe tbody tr th:only-of-type {\n",
       "        vertical-align: middle;\n",
       "    }\n",
       "\n",
       "    .dataframe tbody tr th {\n",
       "        vertical-align: top;\n",
       "    }\n",
       "\n",
       "    .dataframe thead th {\n",
       "        text-align: right;\n",
       "    }\n",
       "</style>\n",
       "<table border=\"1\" class=\"dataframe\">\n",
       "  <thead>\n",
       "    <tr style=\"text-align: right;\">\n",
       "      <th></th>\n",
       "      <th>url</th>\n",
       "      <th>timedelta</th>\n",
       "      <th>n_tokens_title</th>\n",
       "      <th>n_tokens_content</th>\n",
       "      <th>n_unique_tokens</th>\n",
       "      <th>n_non_stop_words</th>\n",
       "      <th>n_non_stop_unique_tokens</th>\n",
       "      <th>num_hrefs</th>\n",
       "      <th>num_self_hrefs</th>\n",
       "      <th>num_imgs</th>\n",
       "      <th>...</th>\n",
       "      <th>min_positive_polarity</th>\n",
       "      <th>max_positive_polarity</th>\n",
       "      <th>avg_negative_polarity</th>\n",
       "      <th>min_negative_polarity</th>\n",
       "      <th>max_negative_polarity</th>\n",
       "      <th>title_subjectivity</th>\n",
       "      <th>title_sentiment_polarity</th>\n",
       "      <th>abs_title_subjectivity</th>\n",
       "      <th>abs_title_sentiment_polarity</th>\n",
       "      <th>shares</th>\n",
       "    </tr>\n",
       "  </thead>\n",
       "  <tbody>\n",
       "    <tr>\n",
       "      <th>0</th>\n",
       "      <td>http://mashable.com/2013/01/07/amazon-instant-...</td>\n",
       "      <td>731.0</td>\n",
       "      <td>12.0</td>\n",
       "      <td>219.0</td>\n",
       "      <td>0.663594</td>\n",
       "      <td>1.0</td>\n",
       "      <td>0.815385</td>\n",
       "      <td>4.0</td>\n",
       "      <td>2.0</td>\n",
       "      <td>1.0</td>\n",
       "      <td>...</td>\n",
       "      <td>0.100000</td>\n",
       "      <td>0.7</td>\n",
       "      <td>-0.35000</td>\n",
       "      <td>-0.600</td>\n",
       "      <td>-0.2</td>\n",
       "      <td>0.5</td>\n",
       "      <td>-0.1875</td>\n",
       "      <td>0.0</td>\n",
       "      <td>0.1875</td>\n",
       "      <td>593</td>\n",
       "    </tr>\n",
       "    <tr>\n",
       "      <th>1</th>\n",
       "      <td>http://mashable.com/2013/01/07/ap-samsung-spon...</td>\n",
       "      <td>731.0</td>\n",
       "      <td>9.0</td>\n",
       "      <td>255.0</td>\n",
       "      <td>0.604743</td>\n",
       "      <td>1.0</td>\n",
       "      <td>0.791946</td>\n",
       "      <td>3.0</td>\n",
       "      <td>1.0</td>\n",
       "      <td>1.0</td>\n",
       "      <td>...</td>\n",
       "      <td>0.033333</td>\n",
       "      <td>0.7</td>\n",
       "      <td>-0.11875</td>\n",
       "      <td>-0.125</td>\n",
       "      <td>-0.1</td>\n",
       "      <td>0.0</td>\n",
       "      <td>0.0000</td>\n",
       "      <td>0.5</td>\n",
       "      <td>0.0000</td>\n",
       "      <td>711</td>\n",
       "    </tr>\n",
       "  </tbody>\n",
       "</table>\n",
       "<p>2 rows × 61 columns</p>\n",
       "</div>"
      ],
      "text/plain": [
       "                                                 url   timedelta  \\\n",
       "0  http://mashable.com/2013/01/07/amazon-instant-...       731.0   \n",
       "1  http://mashable.com/2013/01/07/ap-samsung-spon...       731.0   \n",
       "\n",
       "    n_tokens_title   n_tokens_content   n_unique_tokens   n_non_stop_words  \\\n",
       "0             12.0              219.0          0.663594                1.0   \n",
       "1              9.0              255.0          0.604743                1.0   \n",
       "\n",
       "    n_non_stop_unique_tokens   num_hrefs   num_self_hrefs   num_imgs  ...  \\\n",
       "0                   0.815385         4.0              2.0        1.0  ...   \n",
       "1                   0.791946         3.0              1.0        1.0  ...   \n",
       "\n",
       "    min_positive_polarity   max_positive_polarity   avg_negative_polarity  \\\n",
       "0                0.100000                     0.7                -0.35000   \n",
       "1                0.033333                     0.7                -0.11875   \n",
       "\n",
       "    min_negative_polarity   max_negative_polarity   title_subjectivity  \\\n",
       "0                  -0.600                    -0.2                  0.5   \n",
       "1                  -0.125                    -0.1                  0.0   \n",
       "\n",
       "    title_sentiment_polarity   abs_title_subjectivity  \\\n",
       "0                    -0.1875                      0.0   \n",
       "1                     0.0000                      0.5   \n",
       "\n",
       "    abs_title_sentiment_polarity   shares  \n",
       "0                         0.1875      593  \n",
       "1                         0.0000      711  \n",
       "\n",
       "[2 rows x 61 columns]"
      ]
     },
     "execution_count": 2,
     "metadata": {},
     "output_type": "execute_result"
    }
   ],
   "source": [
    "data.head(2)"
   ]
  },
  {
   "cell_type": "markdown",
   "metadata": {},
   "source": [
    "<br><br><br><br>\n",
    "## Preprocess dataset"
   ]
  },
  {
   "cell_type": "code",
   "execution_count": 3,
   "metadata": {
    "ExecuteTime": {
     "end_time": "2019-05-22T14:31:57.617938Z",
     "start_time": "2019-05-22T14:31:56.500202Z"
    },
    "scrolled": true
   },
   "outputs": [
    {
     "data": {
      "image/png": "[encoded data removed]",
      "text/plain": [
       "<Figure size 432x288 with 1 Axes>"
      ]
     },
     "metadata": {
      "needs_background": "light"
     },
     "output_type": "display_data"
    }
   ],
   "source": [
    "# ζωγραφίζω τις τιμές των \"shares\" σε ένα γράφημα για να εντοπήσω τα outliers\n",
    "\n",
    "yaxes = np.linspace(39644,39644,39644)\n",
    "plt.xlim(0,50000)\n",
    "plt.ylim(0,1000000)\n",
    "plt.scatter(yaxes,y)\n",
    "plt.savefig(\"outliers_yes.png\")"
   ]
  },
  {
   "cell_type": "code",
   "execution_count": 4,
   "metadata": {
    "ExecuteTime": {
     "end_time": "2019-05-22T14:32:10.033363Z",
     "start_time": "2019-05-22T14:32:03.919136Z"
    }
   },
   "outputs": [],
   "source": [
    "index = []\n",
    "for i in range(np.shape(data)[0]):\n",
    "    if y[i] < 26647:\n",
    "        index.append(1)\n",
    "    else:\n",
    "        index.append(0)\n",
    "\n",
    "data = np.array(data)     \n",
    "data2 = [[0 for x in range(61)] for y in range(39130)]\n",
    "k = 0\n",
    "\n",
    "for i in range(np.shape(index)[0]):\n",
    "    if index[i] == 1:\n",
    "        for j in range(61):\n",
    "            data2[k][j] = data[i][j]\n",
    "        k = k + 1\n",
    "np.shape(data2)\n",
    "\n",
    "y2 = np.zeros(39130)\n",
    "for i in range(39130):\n",
    "    y2[i] = data2[i][60]"
   ]
  },
  {
   "cell_type": "code",
   "execution_count": 5,
   "metadata": {
    "ExecuteTime": {
     "end_time": "2019-05-22T14:32:13.354088Z",
     "start_time": "2019-05-22T14:32:13.328180Z"
    }
   },
   "outputs": [
    {
     "data": {
      "text/html": [
       "<div>\n",
       "<style scoped>\n",
       "    .dataframe tbody tr th:only-of-type {\n",
       "        vertical-align: middle;\n",
       "    }\n",
       "\n",
       "    .dataframe tbody tr th {\n",
       "        vertical-align: top;\n",
       "    }\n",
       "\n",
       "    .dataframe thead th {\n",
       "        text-align: right;\n",
       "    }\n",
       "</style>\n",
       "<table border=\"1\" class=\"dataframe\">\n",
       "  <thead>\n",
       "    <tr style=\"text-align: right;\">\n",
       "      <th></th>\n",
       "      <th>shares</th>\n",
       "    </tr>\n",
       "  </thead>\n",
       "  <tbody>\n",
       "    <tr>\n",
       "      <th>count</th>\n",
       "      <td>39644.000000</td>\n",
       "    </tr>\n",
       "    <tr>\n",
       "      <th>mean</th>\n",
       "      <td>3395.380184</td>\n",
       "    </tr>\n",
       "    <tr>\n",
       "      <th>std</th>\n",
       "      <td>11626.950749</td>\n",
       "    </tr>\n",
       "    <tr>\n",
       "      <th>min</th>\n",
       "      <td>1.000000</td>\n",
       "    </tr>\n",
       "    <tr>\n",
       "      <th>25%</th>\n",
       "      <td>946.000000</td>\n",
       "    </tr>\n",
       "    <tr>\n",
       "      <th>50%</th>\n",
       "      <td>1400.000000</td>\n",
       "    </tr>\n",
       "    <tr>\n",
       "      <th>75%</th>\n",
       "      <td>2800.000000</td>\n",
       "    </tr>\n",
       "    <tr>\n",
       "      <th>max</th>\n",
       "      <td>843300.000000</td>\n",
       "    </tr>\n",
       "  </tbody>\n",
       "</table>\n",
       "</div>"
      ],
      "text/plain": [
       "              shares\n",
       "count   39644.000000\n",
       "mean     3395.380184\n",
       "std     11626.950749\n",
       "min         1.000000\n",
       "25%       946.000000\n",
       "50%      1400.000000\n",
       "75%      2800.000000\n",
       "max    843300.000000"
      ]
     },
     "execution_count": 5,
     "metadata": {},
     "output_type": "execute_result"
    }
   ],
   "source": [
    "pd.DataFrame(y).describe()"
   ]
  },
  {
   "cell_type": "code",
   "execution_count": 6,
   "metadata": {
    "ExecuteTime": {
     "end_time": "2019-05-22T14:32:21.663412Z",
     "start_time": "2019-05-22T14:32:20.246981Z"
    }
   },
   "outputs": [
    {
     "data": {
      "image/png": "[encoded data removed]",
      "text/plain": [
       "<Figure size 432x288 with 1 Axes>"
      ]
     },
     "metadata": {
      "needs_background": "light"
     },
     "output_type": "display_data"
    }
   ],
   "source": [
    "data2 = pd.DataFrame(data2)\n",
    "data2.columns = ['url', 'timedelta', 'n_tokens_title', 'n_tokens_content', 'n_unique_tokens', 'n_non_stop_words', 'n_non_stop_unique_tokens', 'num_hrefs', 'num_self_hrefs', 'num_imgs', 'num_videos', 'average_token_length', 'num_keywords', 'data_channel_is_lifestyle', 'data_channel_is_entertainment', 'data_channel_is_bus', 'data_channel_is_socmed', 'data_channel_is_tech', 'data_channel_is_world',  'kw_min_min', 'kw_max_min', 'kw_avg_min', 'kw_min_max', 'kw_max_max', 'kw_avg_max', 'kw_min_avg', 'kw_max_avg', 'kw_avg_avg', 'self_reference_min_shares', 'self_reference_max_shares', 'self_reference_avg_sharess', 'weekday_is_monday', 'weekday_is_tuesday', 'weekday_is_wednesday', 'weekday_is_thursday', 'weekday_is_friday', 'weekday_is_saturday',  'weekday_is_sunday', 'is_weekend', 'LDA_00', 'LDA_01', 'LDA_02', 'LDA_03', 'LDA_04', 'global_subjectivity', 'global_sentiment_polarity', 'global_rate_positive_words', 'global_rate_negative_words', 'rate_positive_words','rate_negative_words', 'avg_positive_polarity', 'min_positive_polarity', 'max_positive_polarity', 'avg_negative_polarity', 'min_negative_polarity', 'max_negative_polarity', 'title_subjectivity', 'title_sentiment_polarity', 'abs_title_subjectivity', 'abs_title_sentiment_polarity', 'shares']\n",
    "\n",
    "# ζωγραφίζω τις τιμές των \"shares\" και παρατηρώ ότι έχουν εξαφανιστεί τα outliers\n",
    "yaxes = np.linspace(np.shape(data2)[0],np.shape(data2)[0],np.shape(data2)[0])\n",
    "plt.xlim(0,50000)\n",
    "plt.ylim(0,1000000)\n",
    "plt.scatter(yaxes,y2)\n",
    "plt.savefig(\"outliers_no.png\")"
   ]
  },
  {
   "cell_type": "code",
   "execution_count": 7,
   "metadata": {
    "ExecuteTime": {
     "end_time": "2019-05-22T14:32:26.806542Z",
     "start_time": "2019-05-22T14:32:25.627117Z"
    }
   },
   "outputs": [
    {
     "data": {
      "image/png": "[encoded data removed]",
      "text/plain": [
       "<Figure size 432x288 with 1 Axes>"
      ]
     },
     "metadata": {
      "needs_background": "light"
     },
     "output_type": "display_data"
    }
   ],
   "source": [
    "# κάνω ζουμ\n",
    "\n",
    "data2 = pd.DataFrame(data2)\n",
    "data2.columns = ['url', 'timedelta', 'n_tokens_title', 'n_tokens_content', 'n_unique_tokens', 'n_non_stop_words', 'n_non_stop_unique_tokens', 'num_hrefs', 'num_self_hrefs', 'num_imgs', 'num_videos', 'average_token_length', 'num_keywords', 'data_channel_is_lifestyle', 'data_channel_is_entertainment', 'data_channel_is_bus', 'data_channel_is_socmed', 'data_channel_is_tech', 'data_channel_is_world',  'kw_min_min', 'kw_max_min', 'kw_avg_min', 'kw_min_max', 'kw_max_max', 'kw_avg_max', 'kw_min_avg', 'kw_max_avg', 'kw_avg_avg', 'self_reference_min_shares', 'self_reference_max_shares', 'self_reference_avg_sharess', 'weekday_is_monday', 'weekday_is_tuesday', 'weekday_is_wednesday', 'weekday_is_thursday', 'weekday_is_friday', 'weekday_is_saturday',  'weekday_is_sunday', 'is_weekend', 'LDA_00', 'LDA_01', 'LDA_02', 'LDA_03', 'LDA_04', 'global_subjectivity', 'global_sentiment_polarity', 'global_rate_positive_words', 'global_rate_negative_words', 'rate_positive_words','rate_negative_words', 'avg_positive_polarity', 'min_positive_polarity', 'max_positive_polarity', 'avg_negative_polarity', 'min_negative_polarity', 'max_negative_polarity', 'title_subjectivity', 'title_sentiment_polarity', 'abs_title_subjectivity', 'abs_title_sentiment_polarity', 'shares']\n",
    "\n",
    "# ζωγραφίζω τις τιμές των \"shares\" και παρατηρώ ότι έχουν εξαφανιστεί τα outliers\n",
    "yaxes = np.linspace(np.shape(data2)[0],np.shape(data2)[0],np.shape(data2)[0])\n",
    "plt.xlim(0,50000)\n",
    "plt.ylim(0,40000)\n",
    "plt.scatter(yaxes,y2)\n",
    "plt.savefig(\"outliers_no_zoom.png\")"
   ]
  },
  {
   "cell_type": "code",
   "execution_count": 8,
   "metadata": {
    "ExecuteTime": {
     "end_time": "2019-05-22T14:32:30.034519Z",
     "start_time": "2019-05-22T14:32:30.027171Z"
    }
   },
   "outputs": [
    {
     "name": "stdout",
     "output_type": "stream",
     "text": [
      "outliers was 1.313570150779453 % of the trainset\n"
     ]
    }
   ],
   "source": [
    "print(\"outliers was \" + str(100 * (-np.shape(data2)[0] + initRows) / np.shape(data2)[0]) + \" % of the trainset\")"
   ]
  },
  {
   "cell_type": "markdown",
   "metadata": {},
   "source": [
    "<br><br>\n",
    "**Drop columns**"
   ]
  },
  {
   "cell_type": "code",
   "execution_count": 9,
   "metadata": {
    "ExecuteTime": {
     "end_time": "2019-05-22T14:32:34.839148Z",
     "start_time": "2019-05-22T14:32:34.814167Z"
    }
   },
   "outputs": [
    {
     "data": {
      "text/plain": [
       "(39130, 60)"
      ]
     },
     "execution_count": 9,
     "metadata": {},
     "output_type": "execute_result"
    }
   ],
   "source": [
    "# αφαιρώ τη στήλη \"url\" --> δεν παρέχει κάποια χρήσιμη πληροφορία για regression/classification\n",
    "# το url είναι μοναδικό, δηλ είναι κάτι σαν κλειδί, δεν έχει χρησιμη πληροφορία\n",
    "data2 = data2.drop('url', axis=1)\n",
    "X2 = data2.iloc[:,0:59]\n",
    "y2 = data2.iloc[:,-1]\n",
    "np.shape(data2)"
   ]
  },
  {
   "cell_type": "markdown",
   "metadata": {},
   "source": [
    "<br><br>\n",
    "**Normalization**"
   ]
  },
  {
   "cell_type": "code",
   "execution_count": 10,
   "metadata": {
    "ExecuteTime": {
     "end_time": "2019-05-22T14:32:38.220925Z",
     "start_time": "2019-05-22T14:32:38.206778Z"
    }
   },
   "outputs": [],
   "source": [
    "data2 = data2.drop('shares', axis=1)"
   ]
  },
  {
   "cell_type": "code",
   "execution_count": 11,
   "metadata": {
    "ExecuteTime": {
     "end_time": "2019-05-22T14:32:43.957806Z",
     "start_time": "2019-05-22T14:32:43.845954Z"
    }
   },
   "outputs": [
    {
     "data": {
      "text/html": [
       "<div>\n",
       "<style scoped>\n",
       "    .dataframe tbody tr th:only-of-type {\n",
       "        vertical-align: middle;\n",
       "    }\n",
       "\n",
       "    .dataframe tbody tr th {\n",
       "        vertical-align: top;\n",
       "    }\n",
       "\n",
       "    .dataframe thead th {\n",
       "        text-align: right;\n",
       "    }\n",
       "</style>\n",
       "<table border=\"1\" class=\"dataframe\">\n",
       "  <thead>\n",
       "    <tr style=\"text-align: right;\">\n",
       "      <th></th>\n",
       "      <th>timedelta</th>\n",
       "      <th>n_tokens_title</th>\n",
       "      <th>n_tokens_content</th>\n",
       "      <th>n_unique_tokens</th>\n",
       "      <th>n_non_stop_words</th>\n",
       "      <th>n_non_stop_unique_tokens</th>\n",
       "      <th>num_hrefs</th>\n",
       "      <th>num_self_hrefs</th>\n",
       "      <th>num_imgs</th>\n",
       "      <th>num_videos</th>\n",
       "      <th>...</th>\n",
       "      <th>min_positive_polarity</th>\n",
       "      <th>max_positive_polarity</th>\n",
       "      <th>avg_negative_polarity</th>\n",
       "      <th>min_negative_polarity</th>\n",
       "      <th>max_negative_polarity</th>\n",
       "      <th>title_subjectivity</th>\n",
       "      <th>title_sentiment_polarity</th>\n",
       "      <th>abs_title_subjectivity</th>\n",
       "      <th>abs_title_sentiment_polarity</th>\n",
       "      <th>shares</th>\n",
       "    </tr>\n",
       "  </thead>\n",
       "  <tbody>\n",
       "    <tr>\n",
       "      <th>0</th>\n",
       "      <td>1.0</td>\n",
       "      <td>0.476190</td>\n",
       "      <td>0.025844</td>\n",
       "      <td>0.000947</td>\n",
       "      <td>0.00096</td>\n",
       "      <td>0.001254</td>\n",
       "      <td>0.013158</td>\n",
       "      <td>0.017241</td>\n",
       "      <td>0.007812</td>\n",
       "      <td>0.0</td>\n",
       "      <td>...</td>\n",
       "      <td>0.100000</td>\n",
       "      <td>0.7</td>\n",
       "      <td>0.65000</td>\n",
       "      <td>0.400</td>\n",
       "      <td>0.8</td>\n",
       "      <td>0.5</td>\n",
       "      <td>0.40625</td>\n",
       "      <td>0.0</td>\n",
       "      <td>0.1875</td>\n",
       "      <td>593</td>\n",
       "    </tr>\n",
       "    <tr>\n",
       "      <th>1</th>\n",
       "      <td>1.0</td>\n",
       "      <td>0.333333</td>\n",
       "      <td>0.030092</td>\n",
       "      <td>0.000863</td>\n",
       "      <td>0.00096</td>\n",
       "      <td>0.001218</td>\n",
       "      <td>0.009868</td>\n",
       "      <td>0.008621</td>\n",
       "      <td>0.007812</td>\n",
       "      <td>0.0</td>\n",
       "      <td>...</td>\n",
       "      <td>0.033333</td>\n",
       "      <td>0.7</td>\n",
       "      <td>0.88125</td>\n",
       "      <td>0.875</td>\n",
       "      <td>0.9</td>\n",
       "      <td>0.0</td>\n",
       "      <td>0.50000</td>\n",
       "      <td>1.0</td>\n",
       "      <td>0.0000</td>\n",
       "      <td>711</td>\n",
       "    </tr>\n",
       "  </tbody>\n",
       "</table>\n",
       "<p>2 rows × 60 columns</p>\n",
       "</div>"
      ],
      "text/plain": [
       "   timedelta  n_tokens_title  n_tokens_content  n_unique_tokens  \\\n",
       "0        1.0        0.476190          0.025844         0.000947   \n",
       "1        1.0        0.333333          0.030092         0.000863   \n",
       "\n",
       "   n_non_stop_words  n_non_stop_unique_tokens  num_hrefs  num_self_hrefs  \\\n",
       "0           0.00096                  0.001254   0.013158        0.017241   \n",
       "1           0.00096                  0.001218   0.009868        0.008621   \n",
       "\n",
       "   num_imgs  num_videos  ...  min_positive_polarity  max_positive_polarity  \\\n",
       "0  0.007812         0.0  ...               0.100000                    0.7   \n",
       "1  0.007812         0.0  ...               0.033333                    0.7   \n",
       "\n",
       "   avg_negative_polarity  min_negative_polarity  max_negative_polarity  \\\n",
       "0                0.65000                  0.400                    0.8   \n",
       "1                0.88125                  0.875                    0.9   \n",
       "\n",
       "   title_subjectivity  title_sentiment_polarity  abs_title_subjectivity  \\\n",
       "0                 0.5                   0.40625                     0.0   \n",
       "1                 0.0                   0.50000                     1.0   \n",
       "\n",
       "   abs_title_sentiment_polarity  shares  \n",
       "0                        0.1875     593  \n",
       "1                        0.0000     711  \n",
       "\n",
       "[2 rows x 60 columns]"
      ]
     },
     "execution_count": 11,
     "metadata": {},
     "output_type": "execute_result"
    }
   ],
   "source": [
    "from sklearn.preprocessing import MinMaxScaler\n",
    "data2 = MinMaxScaler().fit_transform(data2)\n",
    "\n",
    "data2 = pd.DataFrame(data2)\n",
    "data2['shares'] = y2\n",
    "data2.columns = ['timedelta', 'n_tokens_title', 'n_tokens_content', 'n_unique_tokens', 'n_non_stop_words', 'n_non_stop_unique_tokens', 'num_hrefs', 'num_self_hrefs', 'num_imgs', 'num_videos', 'average_token_length', 'num_keywords', 'data_channel_is_lifestyle', 'data_channel_is_entertainment', 'data_channel_is_bus', 'data_channel_is_socmed', 'data_channel_is_tech', 'data_channel_is_world',  'kw_min_min', 'kw_max_min', 'kw_avg_min', 'kw_min_max', 'kw_max_max', 'kw_avg_max', 'kw_min_avg', 'kw_max_avg', 'kw_avg_avg', 'self_reference_min_shares', 'self_reference_max_shares', 'self_reference_avg_sharess', 'weekday_is_monday', 'weekday_is_tuesday', 'weekday_is_wednesday', 'weekday_is_thursday', 'weekday_is_friday', 'weekday_is_saturday',  'weekday_is_sunday', 'is_weekend', 'LDA_00', 'LDA_01', 'LDA_02', 'LDA_03', 'LDA_04', 'global_subjectivity', 'global_sentiment_polarity', 'global_rate_positive_words', 'global_rate_negative_words', 'rate_positive_words','rate_negative_words', 'avg_positive_polarity', 'min_positive_polarity', 'max_positive_polarity', 'avg_negative_polarity', 'min_negative_polarity', 'max_negative_polarity', 'title_subjectivity', 'title_sentiment_polarity', 'abs_title_subjectivity', 'abs_title_sentiment_polarity', 'shares']\n",
    "X2 = data2.iloc[:,0:59]\n",
    "y2 = data2.iloc[:,59]\n",
    "data2.head(2)"
   ]
  },
  {
   "cell_type": "code",
   "execution_count": 14,
   "metadata": {
    "ExecuteTime": {
     "end_time": "2019-05-22T14:33:15.838747Z",
     "start_time": "2019-05-22T14:33:15.803064Z"
    }
   },
   "outputs": [],
   "source": [
    "## σώζω για το regression\n",
    "\n",
    "## dummy trap\n",
    "data2 = data2.drop('is_weekend', axis=1)\n",
    "data2 = data2.drop('data_channel_is_bus', axis=1)\n",
    "data2 = data2.drop('weekday_is_monday', axis=1)\n",
    "\n",
    "X2 = data2.iloc[:,0:56]\n",
    "y2 = data2.iloc[:,56]"
   ]
  },
  {
   "cell_type": "code",
   "execution_count": 15,
   "metadata": {
    "ExecuteTime": {
     "end_time": "2019-05-22T14:33:30.197592Z",
     "start_time": "2019-05-22T14:33:27.022760Z"
    }
   },
   "outputs": [],
   "source": [
    "np.savetxt('/home/apostolis/Επιφάνεια εργασίας/εργασία εξαμήνου (μηχανική μάθηση)/datasets/OnlineNewsPopularity_Regression.txt', data2, delimiter=',', header='timedelta,n_tokens_title,n_tokens_content,n_unique_tokens,n_non_stop_words,n_non_stop_unique_tokens,num_hrefs,num_self_hrefs,num_imgs,num_videos,average_token_length,num_keywords,data_channel_is_lifestyle,data_channel_is_entertainment,data_channel_is_socmed,data_channel_is_tech,data_channel_is_world,kw_min_min,kw_max_min,kw_avg_min,kw_min_max,kw_max_max,kw_avg_max,kw_min_avg,kw_max_avg,kw_avg_avg,self_reference_min_shares,self_reference_max_shares,self_reference_avg_sharess,weekday_is_tuesday,weekday_is_wednesday,weekday_is_thursday,weekday_is_friday,weekday_is_saturday,weekday_is_sunday,LDA_00,LDA_01,LDA_02,LDA_03,LDA_04,global_subjectivity,global_sentiment_polarity,global_rate_positive_words,global_rate_negative_words,rate_positive_words,rate_negative_words,avg_positive_polarity,min_positive_polarity,max_positive_polarity,avg_negative_polarity,min_negative_polarity,max_negative_polarity,title_subjectivity,title_sentiment_polarity,abs_title_subjectivity,abs_title_sentiment_polarity,shares', comments='')       "
   ]
  },
  {
   "cell_type": "markdown",
   "metadata": {
    "ExecuteTime": {
     "end_time": "2019-05-09T16:14:31.037390Z",
     "start_time": "2019-05-09T16:14:30.916406Z"
    }
   },
   "source": [
    "<br><br>**Feature Selection**"
   ]
  },
  {
   "cell_type": "code",
   "execution_count": 16,
   "metadata": {
    "ExecuteTime": {
     "end_time": "2019-05-22T14:33:33.605132Z",
     "start_time": "2019-05-22T14:33:33.108796Z"
    }
   },
   "outputs": [
    {
     "data": {
      "text/html": [
       "<div>\n",
       "<style scoped>\n",
       "    .dataframe tbody tr th:only-of-type {\n",
       "        vertical-align: middle;\n",
       "    }\n",
       "\n",
       "    .dataframe tbody tr th {\n",
       "        vertical-align: top;\n",
       "    }\n",
       "\n",
       "    .dataframe thead th {\n",
       "        text-align: right;\n",
       "    }\n",
       "</style>\n",
       "<table border=\"1\" class=\"dataframe\">\n",
       "  <thead>\n",
       "    <tr style=\"text-align: right;\">\n",
       "      <th></th>\n",
       "      <th>Specs</th>\n",
       "      <th>Scores</th>\n",
       "    </tr>\n",
       "  </thead>\n",
       "  <tbody>\n",
       "    <tr>\n",
       "      <th>16</th>\n",
       "      <td>data_channel_is_world</td>\n",
       "      <td>1876.035892</td>\n",
       "    </tr>\n",
       "    <tr>\n",
       "      <th>13</th>\n",
       "      <td>data_channel_is_entertainment</td>\n",
       "      <td>1643.003534</td>\n",
       "    </tr>\n",
       "    <tr>\n",
       "      <th>14</th>\n",
       "      <td>data_channel_is_socmed</td>\n",
       "      <td>1258.404829</td>\n",
       "    </tr>\n",
       "    <tr>\n",
       "      <th>33</th>\n",
       "      <td>weekday_is_saturday</td>\n",
       "      <td>1249.149260</td>\n",
       "    </tr>\n",
       "    <tr>\n",
       "      <th>15</th>\n",
       "      <td>data_channel_is_tech</td>\n",
       "      <td>1159.933253</td>\n",
       "    </tr>\n",
       "    <tr>\n",
       "      <th>12</th>\n",
       "      <td>data_channel_is_lifestyle</td>\n",
       "      <td>1122.384716</td>\n",
       "    </tr>\n",
       "    <tr>\n",
       "      <th>34</th>\n",
       "      <td>weekday_is_sunday</td>\n",
       "      <td>1075.944869</td>\n",
       "    </tr>\n",
       "    <tr>\n",
       "      <th>30</th>\n",
       "      <td>weekday_is_wednesday</td>\n",
       "      <td>1028.411766</td>\n",
       "    </tr>\n",
       "    <tr>\n",
       "      <th>29</th>\n",
       "      <td>weekday_is_tuesday</td>\n",
       "      <td>1023.687672</td>\n",
       "    </tr>\n",
       "    <tr>\n",
       "      <th>31</th>\n",
       "      <td>weekday_is_thursday</td>\n",
       "      <td>991.317578</td>\n",
       "    </tr>\n",
       "    <tr>\n",
       "      <th>37</th>\n",
       "      <td>LDA_02</td>\n",
       "      <td>971.307763</td>\n",
       "    </tr>\n",
       "    <tr>\n",
       "      <th>32</th>\n",
       "      <td>weekday_is_friday</td>\n",
       "      <td>908.132695</td>\n",
       "    </tr>\n",
       "    <tr>\n",
       "      <th>38</th>\n",
       "      <td>LDA_03</td>\n",
       "      <td>729.896142</td>\n",
       "    </tr>\n",
       "    <tr>\n",
       "      <th>36</th>\n",
       "      <td>LDA_01</td>\n",
       "      <td>594.957533</td>\n",
       "    </tr>\n",
       "    <tr>\n",
       "      <th>39</th>\n",
       "      <td>LDA_04</td>\n",
       "      <td>587.807642</td>\n",
       "    </tr>\n",
       "    <tr>\n",
       "      <th>17</th>\n",
       "      <td>kw_min_min</td>\n",
       "      <td>546.720861</td>\n",
       "    </tr>\n",
       "    <tr>\n",
       "      <th>35</th>\n",
       "      <td>LDA_00</td>\n",
       "      <td>502.333700</td>\n",
       "    </tr>\n",
       "    <tr>\n",
       "      <th>23</th>\n",
       "      <td>kw_min_avg</td>\n",
       "      <td>473.905266</td>\n",
       "    </tr>\n",
       "    <tr>\n",
       "      <th>52</th>\n",
       "      <td>title_subjectivity</td>\n",
       "      <td>449.077056</td>\n",
       "    </tr>\n",
       "    <tr>\n",
       "      <th>20</th>\n",
       "      <td>kw_min_max</td>\n",
       "      <td>436.220750</td>\n",
       "    </tr>\n",
       "    <tr>\n",
       "      <th>55</th>\n",
       "      <td>abs_title_sentiment_polarity</td>\n",
       "      <td>385.366171</td>\n",
       "    </tr>\n",
       "    <tr>\n",
       "      <th>0</th>\n",
       "      <td>timedelta</td>\n",
       "      <td>255.735349</td>\n",
       "    </tr>\n",
       "    <tr>\n",
       "      <th>54</th>\n",
       "      <td>abs_title_subjectivity</td>\n",
       "      <td>232.706303</td>\n",
       "    </tr>\n",
       "    <tr>\n",
       "      <th>50</th>\n",
       "      <td>min_negative_polarity</td>\n",
       "      <td>197.823318</td>\n",
       "    </tr>\n",
       "    <tr>\n",
       "      <th>9</th>\n",
       "      <td>num_videos</td>\n",
       "      <td>197.594334</td>\n",
       "    </tr>\n",
       "    <tr>\n",
       "      <th>27</th>\n",
       "      <td>self_reference_max_shares</td>\n",
       "      <td>151.035685</td>\n",
       "    </tr>\n",
       "    <tr>\n",
       "      <th>8</th>\n",
       "      <td>num_imgs</td>\n",
       "      <td>137.925047</td>\n",
       "    </tr>\n",
       "    <tr>\n",
       "      <th>45</th>\n",
       "      <td>rate_negative_words</td>\n",
       "      <td>117.979580</td>\n",
       "    </tr>\n",
       "    <tr>\n",
       "      <th>22</th>\n",
       "      <td>kw_avg_max</td>\n",
       "      <td>107.360916</td>\n",
       "    </tr>\n",
       "    <tr>\n",
       "      <th>26</th>\n",
       "      <td>self_reference_min_shares</td>\n",
       "      <td>104.406579</td>\n",
       "    </tr>\n",
       "    <tr>\n",
       "      <th>21</th>\n",
       "      <td>kw_max_max</td>\n",
       "      <td>104.005292</td>\n",
       "    </tr>\n",
       "    <tr>\n",
       "      <th>48</th>\n",
       "      <td>max_positive_polarity</td>\n",
       "      <td>102.151667</td>\n",
       "    </tr>\n",
       "    <tr>\n",
       "      <th>28</th>\n",
       "      <td>self_reference_avg_sharess</td>\n",
       "      <td>100.126217</td>\n",
       "    </tr>\n",
       "    <tr>\n",
       "      <th>18</th>\n",
       "      <td>kw_max_min</td>\n",
       "      <td>96.808383</td>\n",
       "    </tr>\n",
       "    <tr>\n",
       "      <th>11</th>\n",
       "      <td>num_keywords</td>\n",
       "      <td>93.045965</td>\n",
       "    </tr>\n",
       "    <tr>\n",
       "      <th>44</th>\n",
       "      <td>rate_positive_words</td>\n",
       "      <td>70.190231</td>\n",
       "    </tr>\n",
       "    <tr>\n",
       "      <th>47</th>\n",
       "      <td>min_positive_polarity</td>\n",
       "      <td>68.186254</td>\n",
       "    </tr>\n",
       "    <tr>\n",
       "      <th>42</th>\n",
       "      <td>global_rate_positive_words</td>\n",
       "      <td>61.468931</td>\n",
       "    </tr>\n",
       "    <tr>\n",
       "      <th>19</th>\n",
       "      <td>kw_avg_min</td>\n",
       "      <td>61.381047</td>\n",
       "    </tr>\n",
       "    <tr>\n",
       "      <th>6</th>\n",
       "      <td>num_hrefs</td>\n",
       "      <td>54.144939</td>\n",
       "    </tr>\n",
       "    <tr>\n",
       "      <th>2</th>\n",
       "      <td>n_tokens_content</td>\n",
       "      <td>53.802324</td>\n",
       "    </tr>\n",
       "    <tr>\n",
       "      <th>43</th>\n",
       "      <td>global_rate_negative_words</td>\n",
       "      <td>50.521676</td>\n",
       "    </tr>\n",
       "    <tr>\n",
       "      <th>7</th>\n",
       "      <td>num_self_hrefs</td>\n",
       "      <td>44.478961</td>\n",
       "    </tr>\n",
       "    <tr>\n",
       "      <th>40</th>\n",
       "      <td>global_subjectivity</td>\n",
       "      <td>40.501637</td>\n",
       "    </tr>\n",
       "    <tr>\n",
       "      <th>53</th>\n",
       "      <td>title_sentiment_polarity</td>\n",
       "      <td>39.639806</td>\n",
       "    </tr>\n",
       "    <tr>\n",
       "      <th>24</th>\n",
       "      <td>kw_max_avg</td>\n",
       "      <td>38.169755</td>\n",
       "    </tr>\n",
       "    <tr>\n",
       "      <th>46</th>\n",
       "      <td>avg_positive_polarity</td>\n",
       "      <td>37.763823</td>\n",
       "    </tr>\n",
       "    <tr>\n",
       "      <th>25</th>\n",
       "      <td>kw_avg_avg</td>\n",
       "      <td>35.211936</td>\n",
       "    </tr>\n",
       "    <tr>\n",
       "      <th>1</th>\n",
       "      <td>n_tokens_title</td>\n",
       "      <td>31.641685</td>\n",
       "    </tr>\n",
       "    <tr>\n",
       "      <th>10</th>\n",
       "      <td>average_token_length</td>\n",
       "      <td>25.396701</td>\n",
       "    </tr>\n",
       "    <tr>\n",
       "      <th>49</th>\n",
       "      <td>avg_negative_polarity</td>\n",
       "      <td>24.882093</td>\n",
       "    </tr>\n",
       "    <tr>\n",
       "      <th>41</th>\n",
       "      <td>global_sentiment_polarity</td>\n",
       "      <td>22.362476</td>\n",
       "    </tr>\n",
       "    <tr>\n",
       "      <th>3</th>\n",
       "      <td>n_unique_tokens</td>\n",
       "      <td>16.376004</td>\n",
       "    </tr>\n",
       "    <tr>\n",
       "      <th>4</th>\n",
       "      <td>n_non_stop_words</td>\n",
       "      <td>13.415712</td>\n",
       "    </tr>\n",
       "    <tr>\n",
       "      <th>51</th>\n",
       "      <td>max_negative_polarity</td>\n",
       "      <td>12.094478</td>\n",
       "    </tr>\n",
       "    <tr>\n",
       "      <th>5</th>\n",
       "      <td>n_non_stop_unique_tokens</td>\n",
       "      <td>12.088567</td>\n",
       "    </tr>\n",
       "  </tbody>\n",
       "</table>\n",
       "</div>"
      ],
      "text/plain": [
       "                            Specs       Scores\n",
       "16          data_channel_is_world  1876.035892\n",
       "13  data_channel_is_entertainment  1643.003534\n",
       "14         data_channel_is_socmed  1258.404829\n",
       "33            weekday_is_saturday  1249.149260\n",
       "15           data_channel_is_tech  1159.933253\n",
       "12      data_channel_is_lifestyle  1122.384716\n",
       "34              weekday_is_sunday  1075.944869\n",
       "30           weekday_is_wednesday  1028.411766\n",
       "29             weekday_is_tuesday  1023.687672\n",
       "31            weekday_is_thursday   991.317578\n",
       "37                         LDA_02   971.307763\n",
       "32              weekday_is_friday   908.132695\n",
       "38                         LDA_03   729.896142\n",
       "36                         LDA_01   594.957533\n",
       "39                         LDA_04   587.807642\n",
       "17                     kw_min_min   546.720861\n",
       "35                         LDA_00   502.333700\n",
       "23                     kw_min_avg   473.905266\n",
       "52             title_subjectivity   449.077056\n",
       "20                     kw_min_max   436.220750\n",
       "55   abs_title_sentiment_polarity   385.366171\n",
       "0                       timedelta   255.735349\n",
       "54         abs_title_subjectivity   232.706303\n",
       "50          min_negative_polarity   197.823318\n",
       "9                      num_videos   197.594334\n",
       "27      self_reference_max_shares   151.035685\n",
       "8                        num_imgs   137.925047\n",
       "45            rate_negative_words   117.979580\n",
       "22                     kw_avg_max   107.360916\n",
       "26      self_reference_min_shares   104.406579\n",
       "21                     kw_max_max   104.005292\n",
       "48          max_positive_polarity   102.151667\n",
       "28     self_reference_avg_sharess   100.126217\n",
       "18                     kw_max_min    96.808383\n",
       "11                   num_keywords    93.045965\n",
       "44            rate_positive_words    70.190231\n",
       "47          min_positive_polarity    68.186254\n",
       "42     global_rate_positive_words    61.468931\n",
       "19                     kw_avg_min    61.381047\n",
       "6                       num_hrefs    54.144939\n",
       "2                n_tokens_content    53.802324\n",
       "43     global_rate_negative_words    50.521676\n",
       "7                  num_self_hrefs    44.478961\n",
       "40            global_subjectivity    40.501637\n",
       "53       title_sentiment_polarity    39.639806\n",
       "24                     kw_max_avg    38.169755\n",
       "46          avg_positive_polarity    37.763823\n",
       "25                     kw_avg_avg    35.211936\n",
       "1                  n_tokens_title    31.641685\n",
       "10           average_token_length    25.396701\n",
       "49          avg_negative_polarity    24.882093\n",
       "41      global_sentiment_polarity    22.362476\n",
       "3                 n_unique_tokens    16.376004\n",
       "4                n_non_stop_words    13.415712\n",
       "51          max_negative_polarity    12.094478\n",
       "5        n_non_stop_unique_tokens    12.088567"
      ]
     },
     "execution_count": 16,
     "metadata": {},
     "output_type": "execute_result"
    }
   ],
   "source": [
    "# Βρίσκω τα καλύτερα features\n",
    "from sklearn.feature_selection import SelectKBest\n",
    "from sklearn.feature_selection import chi2\n",
    "\n",
    "bestfeatures = SelectKBest(score_func=chi2, k=56).fit(X2,y2)\n",
    "scores = pd.DataFrame(bestfeatures.scores_)\n",
    "columns = pd.DataFrame(X2.columns)\n",
    "\n",
    "featureScores = pd.concat([columns,scores], axis=1)\n",
    "featureScores.columns = ['Specs', 'Scores']\n",
    "featureScores.nlargest(56,'Scores')"
   ]
  },
  {
   "cell_type": "code",
   "execution_count": 17,
   "metadata": {
    "ExecuteTime": {
     "end_time": "2019-05-22T14:33:39.624889Z",
     "start_time": "2019-05-22T14:33:39.037303Z"
    }
   },
   "outputs": [
    {
     "data": {
      "image/png": "[encoded data removed]",
      "text/plain": [
       "<Figure size 640x480 with 1 Axes>"
      ]
     },
     "metadata": {},
     "output_type": "display_data"
    }
   ],
   "source": [
    "import matplotlib.pyplot as plt; plt.rcdefaults()\n",
    "import numpy as np\n",
    "import matplotlib.pyplot as plt\n",
    " \n",
    "objects = featureScores.iloc[:,0]\n",
    "y_pos = np.arange(len(objects))\n",
    "performance = featureScores.iloc[:,1]\n",
    " \n",
    "plt.barh(y_pos, performance, align='center', alpha=0.5)\n",
    "#plt.yticks(y_pos, objects)\n",
    "plt.ylabel('features')\n",
    "plt.xlabel('scores')\n",
    "plt.title('Feature Importance')\n",
    "plt.savefig(\"Feature scores.png\")\n",
    "plt.show()"
   ]
  },
  {
   "cell_type": "code",
   "execution_count": 18,
   "metadata": {
    "ExecuteTime": {
     "end_time": "2019-05-22T14:33:46.801277Z",
     "start_time": "2019-05-22T14:33:46.126680Z"
    }
   },
   "outputs": [],
   "source": [
    "# Κρατάω μόνο τα καλύτερα, δηλ αυτά με σκορ > 400, δηλ μόνο 22\n",
    "# Βρίσκω τα καλύτερα features\n",
    "from sklearn.feature_selection import SelectKBest\n",
    "from sklearn.feature_selection import chi2\n",
    "\n",
    "bestfeatures = SelectKBest(score_func=chi2, k=22).fit(X2,y2)\n",
    "scores = pd.DataFrame(bestfeatures.scores_)\n",
    "columns = pd.DataFrame(X2.columns)\n",
    "\n",
    "best = pd.concat([columns,scores], axis=1)\n",
    "best.columns = ['Specs', 'Scores']\n",
    "best = best.nlargest(22,'Scores')\n",
    "\n",
    "best = best.reset_index()\n",
    "best = best.drop('index', axis=1)"
   ]
  },
  {
   "cell_type": "code",
   "execution_count": 19,
   "metadata": {
    "ExecuteTime": {
     "end_time": "2019-05-22T14:33:49.269334Z",
     "start_time": "2019-05-22T14:33:49.130890Z"
    }
   },
   "outputs": [],
   "source": [
    "toDrop = []\n",
    "for i in range(np.shape(data2)[1]):\n",
    "    counter = 0\n",
    "    for j in range(np.shape(best)[0]):\n",
    "        if best.iloc[:,0][j] == data2.columns[i]:\n",
    "            counter = 1\n",
    "            break\n",
    "    if counter == 0:\n",
    "        if data2.columns[i] == \"shares\":\n",
    "                continue\n",
    "        else:\n",
    "            toDrop.append(data2.columns[i])"
   ]
  },
  {
   "cell_type": "code",
   "execution_count": 20,
   "metadata": {
    "ExecuteTime": {
     "end_time": "2019-05-22T14:33:52.411728Z",
     "start_time": "2019-05-22T14:33:52.199967Z"
    }
   },
   "outputs": [],
   "source": [
    "for i in range(np.shape(toDrop)[0]):\n",
    "    data2 = data2.drop(toDrop[i], axis=1)"
   ]
  },
  {
   "cell_type": "code",
   "execution_count": 21,
   "metadata": {
    "ExecuteTime": {
     "end_time": "2019-05-22T14:33:59.390107Z",
     "start_time": "2019-05-22T14:33:59.382758Z"
    }
   },
   "outputs": [],
   "source": [
    "X2 = data2.iloc[:,0:22]\n",
    "y2 = data2.iloc[:,22]"
   ]
  },
  {
   "cell_type": "code",
   "execution_count": 22,
   "metadata": {
    "ExecuteTime": {
     "end_time": "2019-05-22T14:34:03.368555Z",
     "start_time": "2019-05-22T14:34:02.154904Z"
    }
   },
   "outputs": [],
   "source": [
    "## σώζω για το regression feature selection\n",
    "np.savetxt('/home/apostolis/Επιφάνεια εργασίας/εργασία εξαμήνου (μηχανική μάθηση)/datasets/OnlineNewsPopularity_Regression FS.txt', data2, delimiter=',', header='timedelta,data_channel_is_lifestyle,data_channel_is_entertainment,data_channel_is_socmed,data_channel_is_tech,data_channel_is_world,kw_min_min,kw_min_max,kw_min_avg,weekday_is_tuesday,weekday_is_wednesday,weekday_is_thursday,weekday_is_friday,weekday_is_saturday,weekday_is_sunday,LDA_00,LDA_01,LDA_02,LDA_03,LDA_04,title_subjectivity,abs_title_sentiment_polarity,shares', comments='')       "
   ]
  }
 ],
 "metadata": {
  "kernelspec": {
   "display_name": "Python 3",
   "language": "python",
   "name": "python3"
  },
  "language_info": {
   "codemirror_mode": {
    "name": "ipython",
    "version": 3
   },
   "file_extension": ".py",
   "mimetype": "text/x-python",
   "name": "python",
   "nbconvert_exporter": "python",
   "pygments_lexer": "ipython3",
   "version": "3.7.3"
  },
  "latex_envs": {
   "LaTeX_envs_menu_present": true,
   "autoclose": false,
   "autocomplete": true,
   "bibliofile": "biblio.bib",
   "cite_by": "apalike",
   "current_citInitial": 1,
   "eqLabelWithNumbers": true,
   "eqNumInitial": 1,
   "hotkeys": {
    "equation": "Ctrl-E",
    "itemize": "Ctrl-I"
   },
   "labels_anchors": false,
   "latex_user_defs": false,
   "report_style_numbering": false,
   "user_envs_cfg": false
  },
  "toc": {
   "base_numbering": 1,
   "nav_menu": {},
   "number_sections": true,
   "sideBar": true,
   "skip_h1_title": false,
   "title_cell": "Table of Contents",
   "title_sidebar": "Contents",
   "toc_cell": false,
   "toc_position": {},
   "toc_section_display": true,
   "toc_window_display": false
  },
  "varInspector": {
   "cols": {
    "lenName": 16,
    "lenType": 16,
    "lenVar": 40
   },
   "kernels_config": {
    "python": {
     "delete_cmd_postfix": "",
     "delete_cmd_prefix": "del ",
     "library": "var_list.py",
     "varRefreshCmd": "print(var_dic_list())"
    },
    "r": {
     "delete_cmd_postfix": ") ",
     "delete_cmd_prefix": "rm(",
     "library": "var_list.r",
     "varRefreshCmd": "cat(var_dic_list()) "
    }
   },
   "types_to_exclude": [
    "module",
    "function",
    "builtin_function_or_method",
    "instance",
    "_Feature"
   ],
   "window_display": false
  }
 },
 "nbformat": 4,
 "nbformat_minor": 2
}
