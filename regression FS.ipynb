{
 "cells": [
  {
   "cell_type": "markdown",
   "metadata": {},
   "source": [
    "# Regression with Feature Selection"
   ]
  },
  {
   "cell_type": "code",
   "execution_count": 1,
   "metadata": {
    "ExecuteTime": {
     "end_time": "2019-05-09T19:57:10.309713Z",
     "start_time": "2019-05-09T19:57:10.304264Z"
    }
   },
   "outputs": [],
   "source": [
    "## μισό λεπτό"
   ]
  },
  {
   "cell_type": "code",
   "execution_count": 1,
   "metadata": {
    "ExecuteTime": {
     "end_time": "2019-05-22T14:36:23.142069Z",
     "start_time": "2019-05-22T14:36:21.417027Z"
    }
   },
   "outputs": [
    {
     "name": "stdout",
     "output_type": "stream",
     "text": [
      "Initial dataset dimensions: (39130, 23)\n"
     ]
    }
   ],
   "source": [
    "%matplotlib inline\n",
    "import matplotlib.pyplot as plt\n",
    "import numpy as np\n",
    "import pandas as pd\n",
    "from pandas.plotting import scatter_matrix\n",
    "from sklearn import tree\n",
    "from sklearn.tree import DecisionTreeRegressor\n",
    "from sklearn.ensemble import RandomForestRegressor\n",
    "from sklearn.model_selection import train_test_split\n",
    "from sklearn.linear_model import LinearRegression\n",
    "from sklearn.metrics import mean_squared_error\n",
    "from sklearn.metrics import mean_absolute_error\n",
    "from sklearn.model_selection import cross_val_score\n",
    "from sklearn.model_selection import GridSearchCV\n",
    "from sklearn.model_selection import RandomizedSearchCV\n",
    "from scipy.stats import randint\n",
    "import seaborn as sns\n",
    "\n",
    "\n",
    "data2 = pd.read_csv(\"/home/apostolis/0. ergasia/datasets/OnlineNewsPopularity_Regression FS.txt\")\n",
    "X2 = data2.iloc[:,0:22]\n",
    "y2 = data2.iloc[:,22]\n",
    "initRows = np.shape(data2)[0]\n",
    "print(\"Initial dataset dimensions: \" + str(np.shape(data2)))"
   ]
  },
  {
   "cell_type": "markdown",
   "metadata": {},
   "source": [
    "<br><br>\n",
    "## Training with best features"
   ]
  },
  {
   "cell_type": "code",
   "execution_count": 2,
   "metadata": {
    "ExecuteTime": {
     "end_time": "2019-05-22T14:36:29.725161Z",
     "start_time": "2019-05-22T14:36:29.698414Z"
    }
   },
   "outputs": [
    {
     "name": "stdout",
     "output_type": "stream",
     "text": [
      "(31304, 22)\n",
      "(31304,)\n"
     ]
    }
   ],
   "source": [
    "train, test = train_test_split(data2, test_size=0.2, random_state=42)\n",
    "x_train = train.iloc[:,0:22]\n",
    "y_train = train.iloc[:,22]\n",
    "x_test = test.iloc[:,0:22]\n",
    "y_test = test.iloc[:,22]\n",
    "\n",
    "print(np.shape(x_train))\n",
    "print(np.shape(y_train))"
   ]
  },
  {
   "cell_type": "markdown",
   "metadata": {},
   "source": [
    "<br><br><br><br>\n",
    "**Random Forest**"
   ]
  },
  {
   "cell_type": "code",
   "execution_count": 3,
   "metadata": {
    "ExecuteTime": {
     "end_time": "2019-05-22T14:36:43.847719Z",
     "start_time": "2019-05-22T14:36:37.875009Z"
    }
   },
   "outputs": [
    {
     "name": "stderr",
     "output_type": "stream",
     "text": [
      "/home/apostolis/anaconda3/envs/my1/lib/python3.7/site-packages/sklearn/ensemble/forest.py:246: FutureWarning: The default value of n_estimators will change from 10 in version 0.20 to 100 in 0.22.\n",
      "  \"10 in version 0.20 to 100 in 0.22.\", FutureWarning)\n"
     ]
    },
    {
     "data": {
      "text/html": [
       "<div>\n",
       "<style scoped>\n",
       "    .dataframe tbody tr th:only-of-type {\n",
       "        vertical-align: middle;\n",
       "    }\n",
       "\n",
       "    .dataframe tbody tr th {\n",
       "        vertical-align: top;\n",
       "    }\n",
       "\n",
       "    .dataframe thead th {\n",
       "        text-align: right;\n",
       "    }\n",
       "</style>\n",
       "<table border=\"1\" class=\"dataframe\">\n",
       "  <thead>\n",
       "    <tr style=\"text-align: right;\">\n",
       "      <th></th>\n",
       "      <th>Actual shares</th>\n",
       "      <th>Predicted shares</th>\n",
       "    </tr>\n",
       "  </thead>\n",
       "  <tbody>\n",
       "    <tr>\n",
       "      <th>0</th>\n",
       "      <td>2600.0</td>\n",
       "      <td>4572.2</td>\n",
       "    </tr>\n",
       "    <tr>\n",
       "      <th>1</th>\n",
       "      <td>870.0</td>\n",
       "      <td>1255.0</td>\n",
       "    </tr>\n",
       "    <tr>\n",
       "      <th>2</th>\n",
       "      <td>1200.0</td>\n",
       "      <td>4148.1</td>\n",
       "    </tr>\n",
       "    <tr>\n",
       "      <th>3</th>\n",
       "      <td>655.0</td>\n",
       "      <td>2746.0</td>\n",
       "    </tr>\n",
       "    <tr>\n",
       "      <th>4</th>\n",
       "      <td>4600.0</td>\n",
       "      <td>3660.0</td>\n",
       "    </tr>\n",
       "    <tr>\n",
       "      <th>5</th>\n",
       "      <td>2400.0</td>\n",
       "      <td>4540.0</td>\n",
       "    </tr>\n",
       "    <tr>\n",
       "      <th>6</th>\n",
       "      <td>3200.0</td>\n",
       "      <td>2061.0</td>\n",
       "    </tr>\n",
       "    <tr>\n",
       "      <th>7</th>\n",
       "      <td>1200.0</td>\n",
       "      <td>2496.1</td>\n",
       "    </tr>\n",
       "    <tr>\n",
       "      <th>8</th>\n",
       "      <td>641.0</td>\n",
       "      <td>9680.0</td>\n",
       "    </tr>\n",
       "    <tr>\n",
       "      <th>9</th>\n",
       "      <td>3300.0</td>\n",
       "      <td>3749.2</td>\n",
       "    </tr>\n",
       "  </tbody>\n",
       "</table>\n",
       "</div>"
      ],
      "text/plain": [
       "   Actual shares  Predicted shares\n",
       "0         2600.0            4572.2\n",
       "1          870.0            1255.0\n",
       "2         1200.0            4148.1\n",
       "3          655.0            2746.0\n",
       "4         4600.0            3660.0\n",
       "5         2400.0            4540.0\n",
       "6         3200.0            2061.0\n",
       "7         1200.0            2496.1\n",
       "8          641.0            9680.0\n",
       "9         3300.0            3749.2"
      ]
     },
     "execution_count": 3,
     "metadata": {},
     "output_type": "execute_result"
    }
   ],
   "source": [
    "RanFor = RandomForestRegressor(random_state=42).fit(x_train, y_train)\n",
    "pred = RanFor.predict(x_test)\n",
    "\n",
    "compare = pd.DataFrame(np.transpose([y_test, pred]))\n",
    "compare = compare.rename(index=str, columns={0: \"Actual shares\", 1: \"Predicted shares\"})\n",
    "compare.head(10)"
   ]
  },
  {
   "cell_type": "code",
   "execution_count": 4,
   "metadata": {
    "ExecuteTime": {
     "end_time": "2019-05-22T14:36:51.086595Z",
     "start_time": "2019-05-22T14:36:49.644634Z"
    }
   },
   "outputs": [
    {
     "data": {
      "image/png": "[encoded data removed]",
      "text/plain": [
       "<Figure size 432x288 with 1 Axes>"
      ]
     },
     "metadata": {
      "needs_background": "light"
     },
     "output_type": "display_data"
    }
   ],
   "source": [
    "y_test = y_test.reset_index()\n",
    "y_test = y_test.iloc[:,-1]\n",
    "sns.regplot(y_test, pred)\n",
    "plt.savefig(\"RF best.png\")"
   ]
  },
  {
   "cell_type": "code",
   "execution_count": 5,
   "metadata": {
    "ExecuteTime": {
     "end_time": "2019-05-22T14:36:54.914214Z",
     "start_time": "2019-05-22T14:36:54.905741Z"
    }
   },
   "outputs": [
    {
     "name": "stdout",
     "output_type": "stream",
     "text": [
      "Mean Squared Error = 3330.696332080994\n"
     ]
    }
   ],
   "source": [
    "# metrics\n",
    "mse = mean_squared_error(y_test, pred)\n",
    "rmse = np.sqrt(mse)\n",
    "print(\"Mean Squared Error = \" + str(rmse))\n",
    "\n",
    "\n",
    "#counter = 0\n",
    "#counter1 = 0\n",
    "#counter2 = 0\n",
    "#thresholdRF = 100\n",
    "#thresholdRF1 = 200\n",
    "#thresholdRF2 = 300\n",
    "\n",
    "#for i in range(np.shape(pred)[0]):\n",
    " #   if np.abs(pred[i] - y_test[i]) < thresholdRF:\n",
    "  #      counter = counter + 1\n",
    "   # if np.abs(pred[i] - y_test[i]) < thresholdRF1:\n",
    "    #    counter1 = counter1 + 1\n",
    "    #if np.abs(pred[i] - y_test[i]) < thresholdRF2:\n",
    "     #   counter2 = counter2 + 1\n",
    "\n",
    "#print(\"Accuracy -+100 = \" + str(100 * counter / np.shape(pred)[0]) + \" %\")\n",
    "#print(\"Accuracy -+200 = \" + str(100 * counter1 / np.shape(pred)[0]) + \" %\")\n",
    "#print(\"Accuracy -+300 = \" + str(100 * counter2 / np.shape(pred)[0]) + \" %\")"
   ]
  },
  {
   "cell_type": "markdown",
   "metadata": {},
   "source": [
    "<br><br><br><br>\n",
    "**Linear Regression**"
   ]
  },
  {
   "cell_type": "code",
   "execution_count": 6,
   "metadata": {
    "ExecuteTime": {
     "end_time": "2019-05-22T14:36:59.510497Z",
     "start_time": "2019-05-22T14:36:59.391933Z"
    }
   },
   "outputs": [
    {
     "data": {
      "text/html": [
       "<div>\n",
       "<style scoped>\n",
       "    .dataframe tbody tr th:only-of-type {\n",
       "        vertical-align: middle;\n",
       "    }\n",
       "\n",
       "    .dataframe tbody tr th {\n",
       "        vertical-align: top;\n",
       "    }\n",
       "\n",
       "    .dataframe thead th {\n",
       "        text-align: right;\n",
       "    }\n",
       "</style>\n",
       "<table border=\"1\" class=\"dataframe\">\n",
       "  <thead>\n",
       "    <tr style=\"text-align: right;\">\n",
       "      <th></th>\n",
       "      <th>Actual shares</th>\n",
       "      <th>Predicted shares</th>\n",
       "    </tr>\n",
       "  </thead>\n",
       "  <tbody>\n",
       "    <tr>\n",
       "      <th>0</th>\n",
       "      <td>2600.0</td>\n",
       "      <td>2221.259375</td>\n",
       "    </tr>\n",
       "    <tr>\n",
       "      <th>1</th>\n",
       "      <td>870.0</td>\n",
       "      <td>1723.283323</td>\n",
       "    </tr>\n",
       "    <tr>\n",
       "      <th>2</th>\n",
       "      <td>1200.0</td>\n",
       "      <td>2008.849428</td>\n",
       "    </tr>\n",
       "    <tr>\n",
       "      <th>3</th>\n",
       "      <td>655.0</td>\n",
       "      <td>3385.683090</td>\n",
       "    </tr>\n",
       "    <tr>\n",
       "      <th>4</th>\n",
       "      <td>4600.0</td>\n",
       "      <td>2922.019356</td>\n",
       "    </tr>\n",
       "  </tbody>\n",
       "</table>\n",
       "</div>"
      ],
      "text/plain": [
       "   Actual shares  Predicted shares\n",
       "0         2600.0       2221.259375\n",
       "1          870.0       1723.283323\n",
       "2         1200.0       2008.849428\n",
       "3          655.0       3385.683090\n",
       "4         4600.0       2922.019356"
      ]
     },
     "execution_count": 6,
     "metadata": {},
     "output_type": "execute_result"
    }
   ],
   "source": [
    "# Linear Regression\n",
    "LR = LinearRegression().fit(x_train, y_train)\n",
    "pred = LR.predict(x_test)\n",
    "\n",
    "compare = pd.DataFrame(np.transpose([y_test, pred]))\n",
    "compare = compare.rename(index=str, columns={0: \"Actual shares\", 1: \"Predicted shares\"})\n",
    "compare.head(5)"
   ]
  },
  {
   "cell_type": "code",
   "execution_count": 7,
   "metadata": {
    "ExecuteTime": {
     "end_time": "2019-05-22T14:37:04.356295Z",
     "start_time": "2019-05-22T14:37:02.959512Z"
    }
   },
   "outputs": [
    {
     "data": {
      "image/png": "[encoded data removed]",
      "text/plain": [
       "<Figure size 432x288 with 1 Axes>"
      ]
     },
     "metadata": {
      "needs_background": "light"
     },
     "output_type": "display_data"
    }
   ],
   "source": [
    "y_test = y_test.reset_index()\n",
    "y_test = y_test.iloc[:,-1]\n",
    "sns.regplot(y_test, pred)\n",
    "plt.savefig(\"LR best.png\")"
   ]
  },
  {
   "cell_type": "code",
   "execution_count": 8,
   "metadata": {
    "ExecuteTime": {
     "end_time": "2019-05-22T14:37:10.492431Z",
     "start_time": "2019-05-22T14:37:10.482835Z"
    }
   },
   "outputs": [
    {
     "name": "stdout",
     "output_type": "stream",
     "text": [
      "Mean Squared Error = 3132.085437036837\n"
     ]
    }
   ],
   "source": [
    "# metrics\n",
    "mse = mean_squared_error(y_test, pred)\n",
    "rmse = np.sqrt(mse)\n",
    "print(\"Mean Squared Error = \" + str(rmse))\n",
    "\n",
    "\n",
    "#counter = 0\n",
    "#counter1 = 0\n",
    "#counter2 = 0\n",
    "#thresholdLR = 100\n",
    "#thresholdLR1 = 200\n",
    "#thresholdLR2 = 300\n",
    "\n",
    "#for i in range(np.shape(pred)[0]):\n",
    " #   if np.abs(pred[i] - y_test[i]) < thresholdLR:\n",
    "  #      counter = counter + 1\n",
    "   # if np.abs(pred[i] - y_test[i]) < thresholdLR1:\n",
    "    #    counter1 = counter1 + 1\n",
    "    #if np.abs(pred[i] - y_test[i]) < thresholdLR2:\n",
    "     #   counter2 = counter2 + 1\n",
    "\n",
    "#print(\"Accuracy -+100 = \" + str(100 * counter / np.shape(pred)[0]) + \" %\")\n",
    "#print(\"Accuracy -+200 = \" + str(100 * counter1 / np.shape(pred)[0]) + \" %\")\n",
    "#print(\"Accuracy -+300 = \" + str(100 * counter2 / np.shape(pred)[0]) + \" %\")"
   ]
  },
  {
   "cell_type": "markdown",
   "metadata": {},
   "source": [
    "<br><br><br><br>\n",
    "**Decision Tree**"
   ]
  },
  {
   "cell_type": "code",
   "execution_count": 9,
   "metadata": {
    "ExecuteTime": {
     "end_time": "2019-05-22T14:37:15.831844Z",
     "start_time": "2019-05-22T14:37:14.860596Z"
    }
   },
   "outputs": [
    {
     "data": {
      "text/html": [
       "<div>\n",
       "<style scoped>\n",
       "    .dataframe tbody tr th:only-of-type {\n",
       "        vertical-align: middle;\n",
       "    }\n",
       "\n",
       "    .dataframe tbody tr th {\n",
       "        vertical-align: top;\n",
       "    }\n",
       "\n",
       "    .dataframe thead th {\n",
       "        text-align: right;\n",
       "    }\n",
       "</style>\n",
       "<table border=\"1\" class=\"dataframe\">\n",
       "  <thead>\n",
       "    <tr style=\"text-align: right;\">\n",
       "      <th></th>\n",
       "      <th>Actual shares</th>\n",
       "      <th>Predicted shares</th>\n",
       "    </tr>\n",
       "  </thead>\n",
       "  <tbody>\n",
       "    <tr>\n",
       "      <th>0</th>\n",
       "      <td>2600.0</td>\n",
       "      <td>5200.0</td>\n",
       "    </tr>\n",
       "    <tr>\n",
       "      <th>1</th>\n",
       "      <td>870.0</td>\n",
       "      <td>1800.0</td>\n",
       "    </tr>\n",
       "    <tr>\n",
       "      <th>2</th>\n",
       "      <td>1200.0</td>\n",
       "      <td>1600.0</td>\n",
       "    </tr>\n",
       "    <tr>\n",
       "      <th>3</th>\n",
       "      <td>655.0</td>\n",
       "      <td>3000.0</td>\n",
       "    </tr>\n",
       "    <tr>\n",
       "      <th>4</th>\n",
       "      <td>4600.0</td>\n",
       "      <td>1400.0</td>\n",
       "    </tr>\n",
       "  </tbody>\n",
       "</table>\n",
       "</div>"
      ],
      "text/plain": [
       "   Actual shares  Predicted shares\n",
       "0         2600.0            5200.0\n",
       "1          870.0            1800.0\n",
       "2         1200.0            1600.0\n",
       "3          655.0            3000.0\n",
       "4         4600.0            1400.0"
      ]
     },
     "execution_count": 9,
     "metadata": {},
     "output_type": "execute_result"
    }
   ],
   "source": [
    "DT = DecisionTreeRegressor(random_state=42).fit(x_train, y_train)\n",
    "pred = DT.predict(x_test)\n",
    "\n",
    "compare = pd.DataFrame(np.transpose([y_test, pred]))\n",
    "compare = compare.rename(index=str, columns={0: \"Actual shares\", 1: \"Predicted shares\"})\n",
    "compare.head(5)"
   ]
  },
  {
   "cell_type": "code",
   "execution_count": 10,
   "metadata": {
    "ExecuteTime": {
     "end_time": "2019-05-22T14:37:20.161964Z",
     "start_time": "2019-05-22T14:37:18.768375Z"
    }
   },
   "outputs": [
    {
     "data": {
      "image/png": "[encoded data removed]",
      "text/plain": [
       "<Figure size 432x288 with 1 Axes>"
      ]
     },
     "metadata": {
      "needs_background": "light"
     },
     "output_type": "display_data"
    }
   ],
   "source": [
    "y_test = y_test.reset_index()\n",
    "y_test = y_test.iloc[:,-1]\n",
    "sns.regplot(y_test, pred)\n",
    "plt.savefig(\"DT best.png\")"
   ]
  },
  {
   "cell_type": "code",
   "execution_count": 11,
   "metadata": {
    "ExecuteTime": {
     "end_time": "2019-05-22T14:37:26.686279Z",
     "start_time": "2019-05-22T14:37:26.676515Z"
    }
   },
   "outputs": [
    {
     "name": "stdout",
     "output_type": "stream",
     "text": [
      "Mean Squared Error = 4662.245506894739\n"
     ]
    }
   ],
   "source": [
    "# metrics\n",
    "mse = mean_squared_error(y_test, pred)\n",
    "rmse = np.sqrt(mse)\n",
    "print(\"Mean Squared Error = \" + str(rmse))\n",
    "\n",
    "\n",
    "#counter = 0\n",
    "#counter1 = 0\n",
    "#counter2 = 0\n",
    "#thresholdDT = 100\n",
    "#thresholdDT1 = 200\n",
    "#thresholdDT2 = 300\n",
    "\n",
    "#for i in range(np.shape(pred)[0]):\n",
    " #   if np.abs(pred[i] - y_test[i]) < thresholdDT:\n",
    "  #      counter = counter + 1\n",
    "   # if np.abs(pred[i] - y_test[i]) < thresholdDT1:\n",
    "    #    counter1 = counter1 + 1\n",
    "    #if np.abs(pred[i] - y_test[i]) < thresholdDT2:\n",
    "     #   counter2 = counter2 + 1\n",
    "\n",
    "#print(\"Accuracy -+100 = \" + str(100 * counter / np.shape(pred)[0]) + \" %\")\n",
    "#print(\"Accuracy -+200 = \" + str(100 * counter1 / np.shape(pred)[0]) + \" %\")\n",
    "#print(\"Accuracy -+300 = \" + str(100 * counter2 / np.shape(pred)[0]) + \" %\")"
   ]
  },
  {
   "cell_type": "markdown",
   "metadata": {},
   "source": [
    "<br><br>\n",
    "## Αποτελέσματα\n",
    "<br><br>\n",
    "**Results with best features**<br>\n",
    "    &emsp;**Linear Regression**<br>\n",
    "        &emsp;&emsp;MSE = 3132.08<br>\n",
    "        &emsp;&emsp;Accuracy = 15.49 %<br>\n",
    "    &emsp;**Decision Tree**<br>\n",
    "        &emsp;&emsp;MSE = 4662.24<br>\n",
    "        &emsp;&emsp;Accuracy = 37.99 %<br>\n",
    "    &emsp;**Random Forest**<br>\n",
    "        &emsp;&emsp;MSE = 3330.98<br>\n",
    "        &emsp;&emsp;Accuracy = 30.62 %\n",
    "<br><br>"
   ]
  }
 ],
 "metadata": {
  "kernelspec": {
   "display_name": "Python 3",
   "language": "python",
   "name": "python3"
  },
  "language_info": {
   "codemirror_mode": {
    "name": "ipython",
    "version": 3
   },
   "file_extension": ".py",
   "mimetype": "text/x-python",
   "name": "python",
   "nbconvert_exporter": "python",
   "pygments_lexer": "ipython3",
   "version": "3.7.3"
  },
  "latex_envs": {
   "LaTeX_envs_menu_present": true,
   "autoclose": false,
   "autocomplete": true,
   "bibliofile": "biblio.bib",
   "cite_by": "apalike",
   "current_citInitial": 1,
   "eqLabelWithNumbers": true,
   "eqNumInitial": 1,
   "hotkeys": {
    "equation": "Ctrl-E",
    "itemize": "Ctrl-I"
   },
   "labels_anchors": false,
   "latex_user_defs": false,
   "report_style_numbering": false,
   "user_envs_cfg": false
  },
  "toc": {
   "base_numbering": 1,
   "nav_menu": {},
   "number_sections": true,
   "sideBar": true,
   "skip_h1_title": false,
   "title_cell": "Table of Contents",
   "title_sidebar": "Contents",
   "toc_cell": false,
   "toc_position": {},
   "toc_section_display": true,
   "toc_window_display": false
  },
  "varInspector": {
   "cols": {
    "lenName": 16,
    "lenType": 16,
    "lenVar": 40
   },
   "kernels_config": {
    "python": {
     "delete_cmd_postfix": "",
     "delete_cmd_prefix": "del ",
     "library": "var_list.py",
     "varRefreshCmd": "print(var_dic_list())"
    },
    "r": {
     "delete_cmd_postfix": ") ",
     "delete_cmd_prefix": "rm(",
     "library": "var_list.r",
     "varRefreshCmd": "cat(var_dic_list()) "
    }
   },
   "types_to_exclude": [
    "module",
    "function",
    "builtin_function_or_method",
    "instance",
    "_Feature"
   ],
   "window_display": false
  }
 },
 "nbformat": 4,
 "nbformat_minor": 2
}
