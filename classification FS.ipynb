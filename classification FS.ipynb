{
 "cells": [
  {
   "cell_type": "markdown",
   "metadata": {},
   "source": [
    "# Classification with Feature Selection"
   ]
  },
  {
   "cell_type": "code",
   "execution_count": 1,
   "metadata": {
    "ExecuteTime": {
     "end_time": "2019-05-09T20:25:49.874040Z",
     "start_time": "2019-05-09T20:25:49.870620Z"
    }
   },
   "outputs": [],
   "source": [
    "# 3 λεπτά"
   ]
  },
  {
   "cell_type": "code",
   "execution_count": 2,
   "metadata": {
    "ExecuteTime": {
     "end_time": "2019-05-22T14:41:41.169058Z",
     "start_time": "2019-05-22T14:41:40.646569Z"
    }
   },
   "outputs": [
    {
     "name": "stdout",
     "output_type": "stream",
     "text": [
      "Initial dataset dimensions: (39130, 23)\n"
     ]
    }
   ],
   "source": [
    "%matplotlib inline\n",
    "import matplotlib.pyplot as plt\n",
    "import numpy as np\n",
    "import pandas as pd\n",
    "from pandas.plotting import scatter_matrix\n",
    "from sklearn import tree\n",
    "from sklearn.tree import DecisionTreeRegressor\n",
    "from sklearn.ensemble import RandomForestRegressor\n",
    "from sklearn.model_selection import train_test_split\n",
    "from sklearn.linear_model import LinearRegression\n",
    "from sklearn.metrics import mean_squared_error\n",
    "from sklearn.metrics import mean_absolute_error\n",
    "from sklearn.model_selection import cross_val_score\n",
    "from sklearn.model_selection import GridSearchCV\n",
    "from sklearn.model_selection import RandomizedSearchCV\n",
    "from scipy.stats import randint\n",
    "import seaborn as sns\n",
    "from sklearn.linear_model import LogisticRegression\n",
    "from sklearn.metrics import classification_report\n",
    "from sklearn.metrics import accuracy_score\n",
    "from sklearn.naive_bayes import BernoulliNB\n",
    "from sklearn.neighbors import KNeighborsClassifier\n",
    "from sklearn.ensemble import RandomForestClassifier\n",
    "from sklearn.svm import SVC\n",
    "from sklearn.metrics import confusion_matrix\n",
    "from sklearn.metrics import roc_curve\n",
    "from sklearn.metrics import auc\n",
    "\n",
    "data2 = pd.read_csv(\"/home/apostolis/Επιφάνεια εργασίας/εργασία εξαμήνου (μηχανική μάθηση)/datasets/OnlineNewsPopularity_Classification FS.txt\")\n",
    "X2 = data2.iloc[:,0:22]\n",
    "y2 = data2.iloc[:,22]\n",
    "initRows = np.shape(data2)[0]\n",
    "print(\"Initial dataset dimensions: \" + str(np.shape(data2)))"
   ]
  },
  {
   "cell_type": "markdown",
   "metadata": {},
   "source": [
    "<br><br>\n",
    "## Training with best features"
   ]
  },
  {
   "cell_type": "code",
   "execution_count": 3,
   "metadata": {
    "ExecuteTime": {
     "end_time": "2019-05-22T14:41:43.761068Z",
     "start_time": "2019-05-22T14:41:43.688106Z"
    }
   },
   "outputs": [],
   "source": [
    "train, test = train_test_split(data2, test_size=0.2, random_state=42)\n",
    "x_train = train.iloc[:,0:22]\n",
    "y_train = train.iloc[:,22]\n",
    "x_test = test.iloc[:,0:22]\n",
    "y_test = test.iloc[:,22]\n",
    "\n",
    "x_train = x_train.reset_index()\n",
    "y_train = y_train.reset_index()\n",
    "x_test = x_test.reset_index()\n",
    "y_test = y_test.reset_index()\n",
    "\n",
    "x_train = x_train.drop('index', axis=1)\n",
    "y_train = y_train.drop('index', axis=1)\n",
    "x_test = x_test.drop('index', axis=1)\n",
    "y_test = y_test.drop('index', axis=1)"
   ]
  },
  {
   "cell_type": "markdown",
   "metadata": {},
   "source": [
    "<br><br>**Zero R**"
   ]
  },
  {
   "cell_type": "code",
   "execution_count": 4,
   "metadata": {
    "ExecuteTime": {
     "end_time": "2019-05-22T14:41:47.415449Z",
     "start_time": "2019-05-22T14:41:47.251132Z"
    }
   },
   "outputs": [
    {
     "name": "stdout",
     "output_type": "stream",
     "text": [
      "Zero R accuracy:  52.63225146946077  %\n"
     ]
    }
   ],
   "source": [
    "lenPop = 0\n",
    "lenUnpop = 0\n",
    "for i in range(np.shape(y_test)[0]):\n",
    "    if y_test['Label'][i] == 1:\n",
    "        lenPop = lenPop + 1\n",
    "    else:\n",
    "        lenUnpop = lenUnpop + 1\n",
    "\n",
    "if lenPop >= lenUnpop:\n",
    "    print(\"Zero R accuracy: \", 100*lenPop/np.shape(y_test)[0], \" %\")\n",
    "else:\n",
    "    print(\"Zero R accuracy: \", 100*lenUnpop/np.shape(y_test)[0], \" %\")"
   ]
  },
  {
   "cell_type": "markdown",
   "metadata": {},
   "source": [
    "<br><br>**Logistic Regression**"
   ]
  },
  {
   "cell_type": "code",
   "execution_count": 5,
   "metadata": {
    "ExecuteTime": {
     "end_time": "2019-05-22T14:41:51.197085Z",
     "start_time": "2019-05-22T14:41:50.530804Z"
    }
   },
   "outputs": [
    {
     "name": "stderr",
     "output_type": "stream",
     "text": [
      "/home/apostolis/anaconda3/envs/my1/lib/python3.7/site-packages/sklearn/linear_model/logistic.py:433: FutureWarning: Default solver will be changed to 'lbfgs' in 0.22. Specify a solver to silence this warning.\n",
      "  FutureWarning)\n",
      "/home/apostolis/anaconda3/envs/my1/lib/python3.7/site-packages/sklearn/utils/validation.py:761: DataConversionWarning: A column-vector y was passed when a 1d array was expected. Please change the shape of y to (n_samples, ), for example using ravel().\n",
      "  y = column_or_1d(y, warn=True)\n"
     ]
    }
   ],
   "source": [
    "LogReg = LogisticRegression(dual=True).fit(x_train, y_train)\n",
    "y_pred = LogReg.predict(x_test)"
   ]
  },
  {
   "cell_type": "code",
   "execution_count": 6,
   "metadata": {
    "ExecuteTime": {
     "end_time": "2019-05-22T14:42:10.472184Z",
     "start_time": "2019-05-22T14:42:00.590756Z"
    }
   },
   "outputs": [
    {
     "name": "stdout",
     "output_type": "stream",
     "text": [
      "              precision    recall  f1-score   support\n",
      "\n",
      "         0.0       0.62      0.54      0.58      3707\n",
      "         1.0       0.63      0.70      0.66      4119\n",
      "\n",
      "   micro avg       0.63      0.63      0.63      7826\n",
      "   macro avg       0.63      0.62      0.62      7826\n",
      "weighted avg       0.63      0.63      0.62      7826\n",
      "\n",
      "\n",
      " [[2017 1690]\n",
      " [1226 2893]] \n",
      "\n",
      "Accuracy:  0.6273958599539995\n",
      "\n",
      "Cross Validation\n"
     ]
    },
    {
     "name": "stderr",
     "output_type": "stream",
     "text": [
      "/home/apostolis/anaconda3/envs/my1/lib/python3.7/site-packages/sklearn/linear_model/logistic.py:433: FutureWarning: Default solver will be changed to 'lbfgs' in 0.22. Specify a solver to silence this warning.\n",
      "  FutureWarning)\n",
      "/home/apostolis/anaconda3/envs/my1/lib/python3.7/site-packages/sklearn/linear_model/logistic.py:433: FutureWarning: Default solver will be changed to 'lbfgs' in 0.22. Specify a solver to silence this warning.\n",
      "  FutureWarning)\n",
      "/home/apostolis/anaconda3/envs/my1/lib/python3.7/site-packages/sklearn/linear_model/logistic.py:433: FutureWarning: Default solver will be changed to 'lbfgs' in 0.22. Specify a solver to silence this warning.\n",
      "  FutureWarning)\n"
     ]
    },
    {
     "name": "stdout",
     "output_type": "stream",
     "text": [
      "61.587098435184814\n"
     ]
    },
    {
     "name": "stderr",
     "output_type": "stream",
     "text": [
      "/home/apostolis/anaconda3/envs/my1/lib/python3.7/site-packages/sklearn/linear_model/logistic.py:433: FutureWarning: Default solver will be changed to 'lbfgs' in 0.22. Specify a solver to silence this warning.\n",
      "  FutureWarning)\n",
      "/home/apostolis/anaconda3/envs/my1/lib/python3.7/site-packages/sklearn/linear_model/logistic.py:433: FutureWarning: Default solver will be changed to 'lbfgs' in 0.22. Specify a solver to silence this warning.\n",
      "  FutureWarning)\n",
      "/home/apostolis/anaconda3/envs/my1/lib/python3.7/site-packages/sklearn/linear_model/logistic.py:433: FutureWarning: Default solver will be changed to 'lbfgs' in 0.22. Specify a solver to silence this warning.\n",
      "  FutureWarning)\n",
      "/home/apostolis/anaconda3/envs/my1/lib/python3.7/site-packages/sklearn/linear_model/logistic.py:433: FutureWarning: Default solver will be changed to 'lbfgs' in 0.22. Specify a solver to silence this warning.\n",
      "  FutureWarning)\n",
      "/home/apostolis/anaconda3/envs/my1/lib/python3.7/site-packages/sklearn/linear_model/logistic.py:433: FutureWarning: Default solver will be changed to 'lbfgs' in 0.22. Specify a solver to silence this warning.\n",
      "  FutureWarning)\n"
     ]
    },
    {
     "name": "stdout",
     "output_type": "stream",
     "text": [
      "60.57245080500895\n"
     ]
    },
    {
     "name": "stderr",
     "output_type": "stream",
     "text": [
      "/home/apostolis/anaconda3/envs/my1/lib/python3.7/site-packages/sklearn/linear_model/logistic.py:433: FutureWarning: Default solver will be changed to 'lbfgs' in 0.22. Specify a solver to silence this warning.\n",
      "  FutureWarning)\n",
      "/home/apostolis/anaconda3/envs/my1/lib/python3.7/site-packages/sklearn/linear_model/logistic.py:433: FutureWarning: Default solver will be changed to 'lbfgs' in 0.22. Specify a solver to silence this warning.\n",
      "  FutureWarning)\n",
      "/home/apostolis/anaconda3/envs/my1/lib/python3.7/site-packages/sklearn/linear_model/logistic.py:433: FutureWarning: Default solver will be changed to 'lbfgs' in 0.22. Specify a solver to silence this warning.\n",
      "  FutureWarning)\n",
      "/home/apostolis/anaconda3/envs/my1/lib/python3.7/site-packages/sklearn/linear_model/logistic.py:433: FutureWarning: Default solver will be changed to 'lbfgs' in 0.22. Specify a solver to silence this warning.\n",
      "  FutureWarning)\n",
      "/home/apostolis/anaconda3/envs/my1/lib/python3.7/site-packages/sklearn/linear_model/logistic.py:433: FutureWarning: Default solver will be changed to 'lbfgs' in 0.22. Specify a solver to silence this warning.\n",
      "  FutureWarning)\n",
      "/home/apostolis/anaconda3/envs/my1/lib/python3.7/site-packages/sklearn/linear_model/logistic.py:433: FutureWarning: Default solver will be changed to 'lbfgs' in 0.22. Specify a solver to silence this warning.\n",
      "  FutureWarning)\n",
      "/home/apostolis/anaconda3/envs/my1/lib/python3.7/site-packages/sklearn/linear_model/logistic.py:433: FutureWarning: Default solver will be changed to 'lbfgs' in 0.22. Specify a solver to silence this warning.\n",
      "  FutureWarning)\n",
      "/home/apostolis/anaconda3/envs/my1/lib/python3.7/site-packages/sklearn/linear_model/logistic.py:433: FutureWarning: Default solver will be changed to 'lbfgs' in 0.22. Specify a solver to silence this warning.\n",
      "  FutureWarning)\n",
      "/home/apostolis/anaconda3/envs/my1/lib/python3.7/site-packages/sklearn/linear_model/logistic.py:433: FutureWarning: Default solver will be changed to 'lbfgs' in 0.22. Specify a solver to silence this warning.\n",
      "  FutureWarning)\n",
      "/home/apostolis/anaconda3/envs/my1/lib/python3.7/site-packages/sklearn/linear_model/logistic.py:433: FutureWarning: Default solver will be changed to 'lbfgs' in 0.22. Specify a solver to silence this warning.\n",
      "  FutureWarning)\n"
     ]
    },
    {
     "name": "stdout",
     "output_type": "stream",
     "text": [
      "61.61257347303859\n"
     ]
    },
    {
     "data": {
      "image/png": "[encoded data removed]",
      "text/plain": [
       "<Figure size 432x288 with 1 Axes>"
      ]
     },
     "metadata": {
      "needs_background": "light"
     },
     "output_type": "display_data"
    }
   ],
   "source": [
    "print(classification_report(y_test, y_pred))\n",
    "print(\"\\n\", confusion_matrix(y_test, y_pred), \"\\n\")\n",
    "print(\"Accuracy: \", accuracy_score(y_test, y_pred))\n",
    "\n",
    "print(\"\\nCross Validation\")\n",
    "print(100*np.mean(cross_val_score(LogReg, X2, y2, cv=3)))\n",
    "print(100*np.mean(cross_val_score(LogReg, X2, y2, cv=5)))\n",
    "print(100*np.mean(cross_val_score(LogReg, X2, y2, cv=10)))\n",
    "\n",
    "fpr, tpr, threshold = roc_curve(y_test, y_pred)\n",
    "roc_auc = auc(fpr, tpr)\n",
    "\n",
    "plt.title('Receiver Operating Characteristic')\n",
    "plt.plot(fpr, tpr, 'b', label = 'AUC = %0.2f' % roc_auc)\n",
    "plt.legend(loc = 'lower right')\n",
    "plt.plot([0, 1], [0, 1],'r--')\n",
    "plt.xlim([0, 1])\n",
    "plt.ylim([0, 1])\n",
    "plt.ylabel('True Positive Rate')\n",
    "plt.xlabel('False Positive Rate')\n",
    "plt.savefig(\"Logistic Regression best.png\")\n",
    "plt.show()"
   ]
  },
  {
   "cell_type": "markdown",
   "metadata": {},
   "source": [
    "<br><br>**Naive Bayes**"
   ]
  },
  {
   "cell_type": "code",
   "execution_count": 7,
   "metadata": {
    "ExecuteTime": {
     "end_time": "2019-05-22T14:42:18.926037Z",
     "start_time": "2019-05-22T14:42:18.883440Z"
    }
   },
   "outputs": [
    {
     "name": "stderr",
     "output_type": "stream",
     "text": [
      "/home/apostolis/anaconda3/envs/my1/lib/python3.7/site-packages/sklearn/utils/validation.py:761: DataConversionWarning: A column-vector y was passed when a 1d array was expected. Please change the shape of y to (n_samples, ), for example using ravel().\n",
      "  y = column_or_1d(y, warn=True)\n"
     ]
    }
   ],
   "source": [
    "naive = BernoulliNB(fit_prior=False).fit(x_train, y_train)\n",
    "y_pred = naive.predict(x_test)"
   ]
  },
  {
   "cell_type": "code",
   "execution_count": 8,
   "metadata": {
    "ExecuteTime": {
     "end_time": "2019-05-22T14:42:24.094024Z",
     "start_time": "2019-05-22T14:42:22.904528Z"
    }
   },
   "outputs": [
    {
     "name": "stdout",
     "output_type": "stream",
     "text": [
      "              precision    recall  f1-score   support\n",
      "\n",
      "         0.0       0.58      0.62      0.60      3707\n",
      "         1.0       0.64      0.60      0.62      4119\n",
      "\n",
      "   micro avg       0.61      0.61      0.61      7826\n",
      "   macro avg       0.61      0.61      0.61      7826\n",
      "weighted avg       0.61      0.61      0.61      7826\n",
      "\n",
      "\n",
      " [[2286 1421]\n",
      " [1631 2488]] \n",
      "\n",
      "Accuracy:  0.6100178890876565\n",
      "\n",
      "Cross Validation\n",
      "60.85870371654334\n",
      "60.79223102478917\n",
      "60.87145412726807\n"
     ]
    },
    {
     "data": {
      "image/png": "[encoded data removed]",
      "text/plain": [
       "<Figure size 432x288 with 1 Axes>"
      ]
     },
     "metadata": {
      "needs_background": "light"
     },
     "output_type": "display_data"
    }
   ],
   "source": [
    "print(classification_report(y_test, y_pred))\n",
    "print(\"\\n\", confusion_matrix(y_test, y_pred), \"\\n\")\n",
    "print(\"Accuracy: \", accuracy_score(y_test, y_pred))\n",
    "\n",
    "print(\"\\nCross Validation\")\n",
    "print(100*np.mean(cross_val_score(naive, X2, y2, cv=3)))\n",
    "print(100*np.mean(cross_val_score(naive, X2, y2, cv=5)))\n",
    "print(100*np.mean(cross_val_score(naive, X2, y2, cv=10)))\n",
    "\n",
    "fpr, tpr, threshold = roc_curve(y_test, y_pred)\n",
    "roc_auc = auc(fpr, tpr)\n",
    "\n",
    "plt.title('Receiver Operating Characteristic')\n",
    "plt.plot(fpr, tpr, 'b', label = 'AUC = %0.2f' % roc_auc)\n",
    "plt.legend(loc = 'lower right')\n",
    "plt.plot([0, 1], [0, 1],'r--')\n",
    "plt.xlim([0, 1])\n",
    "plt.ylim([0, 1])\n",
    "plt.ylabel('True Positive Rate')\n",
    "plt.xlabel('False Positive Rate')\n",
    "plt.savefig(\"Naive Bayes best.png\")\n",
    "plt.show()"
   ]
  },
  {
   "cell_type": "markdown",
   "metadata": {},
   "source": [
    "<br><br>**K Nearest Neighbours**"
   ]
  },
  {
   "cell_type": "code",
   "execution_count": 9,
   "metadata": {
    "ExecuteTime": {
     "end_time": "2019-05-22T14:43:09.524979Z",
     "start_time": "2019-05-22T14:42:30.440233Z"
    }
   },
   "outputs": [
    {
     "name": "stderr",
     "output_type": "stream",
     "text": [
      "/home/apostolis/anaconda3/envs/my1/lib/python3.7/site-packages/ipykernel_launcher.py:2: DataConversionWarning: A column-vector y was passed when a 1d array was expected. Please change the shape of y to (n_samples, ), for example using ravel().\n",
      "  \n",
      "/home/apostolis/anaconda3/envs/my1/lib/python3.7/site-packages/ipykernel_launcher.py:6: DataConversionWarning: A column-vector y was passed when a 1d array was expected. Please change the shape of y to (n_samples, ), for example using ravel().\n",
      "  \n",
      "/home/apostolis/anaconda3/envs/my1/lib/python3.7/site-packages/ipykernel_launcher.py:10: DataConversionWarning: A column-vector y was passed when a 1d array was expected. Please change the shape of y to (n_samples, ), for example using ravel().\n",
      "  # Remove the CWD from sys.path while we load stuff.\n",
      "/home/apostolis/anaconda3/envs/my1/lib/python3.7/site-packages/ipykernel_launcher.py:14: DataConversionWarning: A column-vector y was passed when a 1d array was expected. Please change the shape of y to (n_samples, ), for example using ravel().\n",
      "  \n",
      "/home/apostolis/anaconda3/envs/my1/lib/python3.7/site-packages/ipykernel_launcher.py:18: DataConversionWarning: A column-vector y was passed when a 1d array was expected. Please change the shape of y to (n_samples, ), for example using ravel().\n"
     ]
    }
   ],
   "source": [
    "# k=3\n",
    "knn3 = KNeighborsClassifier(n_neighbors=3, weights=\"distance\").fit(x_train, y_train)\n",
    "y_pred3 = knn3.predict(x_test)\n",
    "\n",
    "# k=5\n",
    "knn5 = KNeighborsClassifier(n_neighbors=5, weights=\"distance\").fit(x_train, y_train)\n",
    "y_pred5 = knn5.predict(x_test)\n",
    "\n",
    "# k=7\n",
    "knn7 = KNeighborsClassifier(n_neighbors=7, weights=\"distance\").fit(x_train, y_train)\n",
    "y_pred7 = knn7.predict(x_test)\n",
    "\n",
    "# k=15\n",
    "knn15 = KNeighborsClassifier(n_neighbors=15, weights=\"distance\").fit(x_train, y_train)\n",
    "y_pred15 = knn15.predict(x_test)\n",
    "\n",
    "# k=30\n",
    "knn30 = KNeighborsClassifier(n_neighbors=30, weights=\"distance\").fit(x_train, y_train)\n",
    "y_pred30 = knn30.predict(x_test)"
   ]
  },
  {
   "cell_type": "code",
   "execution_count": 10,
   "metadata": {
    "ExecuteTime": {
     "end_time": "2019-05-22T14:44:54.343436Z",
     "start_time": "2019-05-22T14:43:12.918167Z"
    }
   },
   "outputs": [
    {
     "name": "stdout",
     "output_type": "stream",
     "text": [
      "3 nearest neighbours\n",
      "              precision    recall  f1-score   support\n",
      "\n",
      "         0.0       0.56      0.56      0.56      3707\n",
      "         1.0       0.60      0.61      0.61      4119\n",
      "\n",
      "   micro avg       0.58      0.58      0.58      7826\n",
      "   macro avg       0.58      0.58      0.58      7826\n",
      "weighted avg       0.58      0.58      0.58      7826\n",
      "\n",
      "\n",
      " [[2064 1643]\n",
      " [1605 2514]] \n",
      "\n",
      "Accuracy:  0.5849731663685152\n",
      "\n",
      "\n",
      "5 nearest neighbours\n",
      "              precision    recall  f1-score   support\n",
      "\n",
      "         0.0       0.57      0.57      0.57      3707\n",
      "         1.0       0.62      0.62      0.62      4119\n",
      "\n",
      "   micro avg       0.60      0.60      0.60      7826\n",
      "   macro avg       0.59      0.59      0.59      7826\n",
      "weighted avg       0.60      0.60      0.60      7826\n",
      "\n",
      "\n",
      " [[2127 1580]\n",
      " [1584 2535]] \n",
      "\n",
      "Accuracy:  0.5957066189624329\n",
      "\n",
      "\n",
      "7 nearest neighbours\n",
      "              precision    recall  f1-score   support\n",
      "\n",
      "         0.0       0.58      0.58      0.58      3707\n",
      "         1.0       0.62      0.63      0.63      4119\n",
      "\n",
      "   micro avg       0.60      0.60      0.60      7826\n",
      "   macro avg       0.60      0.60      0.60      7826\n",
      "weighted avg       0.60      0.60      0.60      7826\n",
      "\n",
      "\n",
      " [[2144 1563]\n",
      " [1536 2583]] \n",
      "\n",
      "Accuracy:  0.6040122668029645\n",
      "\n",
      "\n",
      "15 nearest neighbours\n",
      "              precision    recall  f1-score   support\n",
      "\n",
      "         0.0       0.59      0.59      0.59      3707\n",
      "         1.0       0.63      0.63      0.63      4119\n",
      "\n",
      "   micro avg       0.61      0.61      0.61      7826\n",
      "   macro avg       0.61      0.61      0.61      7826\n",
      "weighted avg       0.61      0.61      0.61      7826\n",
      "\n",
      "\n",
      " [[2203 1504]\n",
      " [1530 2589]] \n",
      "\n",
      "Accuracy:  0.612317914643496\n",
      "\n",
      "\n",
      "30 nearest neighbours\n",
      "              precision    recall  f1-score   support\n",
      "\n",
      "         0.0       0.60      0.60      0.60      3707\n",
      "         1.0       0.64      0.64      0.64      4119\n",
      "\n",
      "   micro avg       0.62      0.62      0.62      7826\n",
      "   macro avg       0.62      0.62      0.62      7826\n",
      "weighted avg       0.62      0.62      0.62      7826\n",
      "\n",
      "\n",
      " [[2219 1488]\n",
      " [1502 2617]] \n",
      "\n",
      "Accuracy:  0.6179401993355482\n",
      "\n",
      "Cross Validation\n",
      "61.85028485457905\n",
      "61.518016866854076\n",
      "61.19856887298748\n"
     ]
    }
   ],
   "source": [
    "print(\"3 nearest neighbours\")\n",
    "print(classification_report(y_test, y_pred3))\n",
    "print(\"\\n\", confusion_matrix(y_test, y_pred3), \"\\n\")\n",
    "print(\"Accuracy: \", accuracy_score(y_test, y_pred3))\n",
    "print(\"\\n\")\n",
    "\n",
    "print(\"5 nearest neighbours\")\n",
    "print(classification_report(y_test, y_pred5))\n",
    "print(\"\\n\", confusion_matrix(y_test, y_pred5), \"\\n\")\n",
    "print(\"Accuracy: \", accuracy_score(y_test, y_pred5))\n",
    "print(\"\\n\")\n",
    "\n",
    "print(\"7 nearest neighbours\")\n",
    "print(classification_report(y_test, y_pred7))\n",
    "print(\"\\n\", confusion_matrix(y_test, y_pred7), \"\\n\")\n",
    "print(\"Accuracy: \", accuracy_score(y_test, y_pred7))\n",
    "print(\"\\n\")\n",
    "\n",
    "print(\"15 nearest neighbours\")\n",
    "print(classification_report(y_test, y_pred15))\n",
    "print(\"\\n\", confusion_matrix(y_test, y_pred15), \"\\n\")\n",
    "print(\"Accuracy: \", accuracy_score(y_test, y_pred15))\n",
    "print(\"\\n\")\n",
    "\n",
    "print(\"30 nearest neighbours\")\n",
    "print(classification_report(y_test, y_pred30))\n",
    "print(\"\\n\", confusion_matrix(y_test, y_pred30), \"\\n\")\n",
    "print(\"Accuracy: \", accuracy_score(y_test, y_pred30))\n",
    "\n",
    "## μόνο στο καλύτερο\n",
    "print(\"\\nCross Validation\")\n",
    "print(100*np.mean(cross_val_score(knn30, X2, y2, cv=3)))\n",
    "print(100*np.mean(cross_val_score(knn30, X2, y2, cv=5)))\n",
    "print(100*np.mean(cross_val_score(knn30, X2, y2, cv=10)))"
   ]
  },
  {
   "cell_type": "code",
   "execution_count": 11,
   "metadata": {
    "ExecuteTime": {
     "end_time": "2019-05-22T14:45:09.095048Z",
     "start_time": "2019-05-22T14:45:08.512332Z"
    }
   },
   "outputs": [
    {
     "data": {
      "image/png": "[encoded data removed]",
      "text/plain": [
       "<Figure size 576x576 with 1 Axes>"
      ]
     },
     "metadata": {
      "needs_background": "light"
     },
     "output_type": "display_data"
    }
   ],
   "source": [
    "fpr3, tpr3, threshold3 = roc_curve(y_test, y_pred3)\n",
    "fpr5, tpr5, threshold5 = roc_curve(y_test, y_pred5)\n",
    "fpr7, tpr7, threshold7 = roc_curve(y_test, y_pred7)\n",
    "fpr15, tpr15, threshold15 = roc_curve(y_test, y_pred15)\n",
    "fpr30, tpr30, threshold30 = roc_curve(y_test, y_pred30)\n",
    "roc_auc3 = auc(fpr3, tpr3)\n",
    "roc_auc5 = auc(fpr5, tpr5)\n",
    "roc_auc7 = auc(fpr7, tpr7)\n",
    "roc_auc15 = auc(fpr15, tpr15)\n",
    "roc_auc30 = auc(fpr30, tpr30)\n",
    "\n",
    "from matplotlib.pylab import rcParams\n",
    "rcParams['figure.figsize'] = 8,8\n",
    "plt.title('Receiver Operating Characteristic')\n",
    "plt.plot(fpr3, tpr3, color='blue', linewidth=4, label = 'k=3, AUC = %0.2f' % roc_auc3)\n",
    "plt.plot(fpr5, tpr5, color='yellow', linewidth=4, label = 'k=5, AUC = %0.2f' % roc_auc5)\n",
    "plt.plot(fpr7, tpr7, color='green', linewidth=4, label = 'k=7, AUC = %0.2f' % roc_auc7)\n",
    "plt.plot(fpr15, tpr15, color='purple', linewidth=4, label = 'k=15, AUC = %0.2f' % roc_auc15)\n",
    "plt.plot(fpr30, tpr30, color='orange', linewidth=4, label = 'k=30, AUC = %0.2f' % roc_auc30)\n",
    "plt.legend(loc = 'lower right')\n",
    "plt.plot([0, 1], [0, 1],'r--')\n",
    "plt.xlim([0, 1])\n",
    "plt.ylim([0, 1])\n",
    "plt.ylabel('True Positive Rate')\n",
    "plt.xlabel('False Positive Rate')\n",
    "plt.savefig(\"K Nearest Neighbours best.png\")\n",
    "plt.show()"
   ]
  },
  {
   "cell_type": "markdown",
   "metadata": {},
   "source": [
    "<br><br>**Random Forest**"
   ]
  },
  {
   "cell_type": "code",
   "execution_count": 12,
   "metadata": {
    "ExecuteTime": {
     "end_time": "2019-05-09T20:28:29.544193Z",
     "start_time": "2019-05-09T20:28:29.541031Z"
    }
   },
   "outputs": [],
   "source": [
    "## τρέχω Random Forest για διάφορα κλαδέματα\n",
    "#RanFor = RandomForestClassifier(criterion=\"entropy\").fit(x_train, y_train)\n",
    "#y_pred = RanFor.predict(x_test)\n",
    "\n",
    "#RanFor = RandomForestClassifier(criterion=\"entropy\", max_depth=10000).fit(x_train, y_train)\n",
    "#y_pred2 = RanFor.predict(x_test)\n",
    "\n",
    "#RanFor = RandomForestClassifier(criterion=\"entropy\", max_depth=90000).fit(x_train, y_train)\n",
    "#y_pred3 = RanFor.predict(x_test)\n",
    "\n",
    "#RanFor = RandomForestClassifier(criterion=\"entropy\", max_depth=80000).fit(x_train, y_train)\n",
    "#y_pred4 = RanFor.predict(x_test)"
   ]
  },
  {
   "cell_type": "code",
   "execution_count": 13,
   "metadata": {
    "ExecuteTime": {
     "end_time": "2019-05-09T20:28:29.636675Z",
     "start_time": "2019-05-09T20:28:29.548452Z"
    }
   },
   "outputs": [],
   "source": [
    "#print(classification_report(y_test, y_pred))\n",
    "#print(\"Accuracy: \", accuracy_score(y_test, y_pred))\n",
    "\n",
    "#print(classification_report(y_test, y_pred2))\n",
    "#print(\"Accuracy: \", accuracy_score(y_test, y_pred2))\n",
    "\n",
    "#print(classification_report(y_test, y_pred3))\n",
    "#print(\"Accuracy: \", accuracy_score(y_test, y_pred3))\n",
    "\n",
    "#print(classification_report(y_test, y_pred4))\n",
    "#print(\"Accuracy: \", accuracy_score(y_test, y_pred4))"
   ]
  },
  {
   "cell_type": "markdown",
   "metadata": {
    "ExecuteTime": {
     "end_time": "2019-05-03T11:08:46.980120Z",
     "start_time": "2019-05-03T11:08:46.963123Z"
    }
   },
   "source": [
    "<br><br>\n",
    "## Αποτελέσματα\n",
    "<br><br>\n",
    "**Results with best features**<br>\n",
    "    &emsp;**Logistic Regression**<br>\n",
    "        &emsp;&emsp;Accuracy = 62.73 %<br>\n",
    "    &emsp;**Naive Bayes**<br>\n",
    "        &emsp;&emsp;Accuracy = 61 %<br>\n",
    "    &emsp;**K Nearest Neighbours**<br>\n",
    "        &emsp;&emsp;Accuracy = 61.79 %<br>\n",
    "<br><br>"
   ]
  }
 ],
 "metadata": {
  "kernelspec": {
   "display_name": "Python 3",
   "language": "python",
   "name": "python3"
  },
  "language_info": {
   "codemirror_mode": {
    "name": "ipython",
    "version": 3
   },
   "file_extension": ".py",
   "mimetype": "text/x-python",
   "name": "python",
   "nbconvert_exporter": "python",
   "pygments_lexer": "ipython3",
   "version": "3.7.1"
  },
  "latex_envs": {
   "LaTeX_envs_menu_present": true,
   "autoclose": false,
   "autocomplete": true,
   "bibliofile": "biblio.bib",
   "cite_by": "apalike",
   "current_citInitial": 1,
   "eqLabelWithNumbers": true,
   "eqNumInitial": 1,
   "hotkeys": {
    "equation": "Ctrl-E",
    "itemize": "Ctrl-I"
   },
   "labels_anchors": false,
   "latex_user_defs": false,
   "report_style_numbering": false,
   "user_envs_cfg": false
  },
  "toc": {
   "base_numbering": 1,
   "nav_menu": {},
   "number_sections": true,
   "sideBar": true,
   "skip_h1_title": false,
   "title_cell": "Table of Contents",
   "title_sidebar": "Contents",
   "toc_cell": false,
   "toc_position": {},
   "toc_section_display": true,
   "toc_window_display": false
  },
  "varInspector": {
   "cols": {
    "lenName": 16,
    "lenType": 16,
    "lenVar": 40
   },
   "kernels_config": {
    "python": {
     "delete_cmd_postfix": "",
     "delete_cmd_prefix": "del ",
     "library": "var_list.py",
     "varRefreshCmd": "print(var_dic_list())"
    },
    "r": {
     "delete_cmd_postfix": ") ",
     "delete_cmd_prefix": "rm(",
     "library": "var_list.r",
     "varRefreshCmd": "cat(var_dic_list()) "
    }
   },
   "types_to_exclude": [
    "module",
    "function",
    "builtin_function_or_method",
    "instance",
    "_Feature"
   ],
   "window_display": false
  }
 },
 "nbformat": 4,
 "nbformat_minor": 2
}
